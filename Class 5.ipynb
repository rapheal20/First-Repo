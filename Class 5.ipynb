{
 "cells": [
  {
   "cell_type": "code",
   "execution_count": 7,
   "id": "ac6b2924",
   "metadata": {},
   "outputs": [
    {
     "name": "stdout",
     "output_type": "stream",
     "text": [
      "651836593675753\n"
     ]
    }
   ],
   "source": [
    "cb = {\n",
    "    'Usman' : '62176983645443', \n",
    "    'Affan' : '651836593675753',\n",
    "    'Home' : '54678334567865', \n",
    "}\n",
    "\n",
    "\n",
    "print (cb['Affan'])"
   ]
  },
  {
   "cell_type": "code",
   "execution_count": 21,
   "id": "bea269e5",
   "metadata": {},
   "outputs": [
    {
     "name": "stdout",
     "output_type": "stream",
     "text": [
      "115\n"
     ]
    }
   ],
   "source": [
    "cb ['Police'] = '115'\n",
    "print(cb['Police'])"
   ]
  },
  {
   "cell_type": "code",
   "execution_count": 23,
   "id": "13d39548",
   "metadata": {},
   "outputs": [],
   "source": [
    "del cb ['Police']"
   ]
  },
  {
   "cell_type": "code",
   "execution_count": 22,
   "id": "68dc3969",
   "metadata": {},
   "outputs": [
    {
     "data": {
      "text/plain": [
       "{'Usman': '62176983645443',\n",
       " 'Affan': '651836593675753',\n",
       " 'Home': '54678334567865',\n",
       " 'Police': '115'}"
      ]
     },
     "execution_count": 22,
     "metadata": {},
     "output_type": "execute_result"
    }
   ],
   "source": [
    "cb\n"
   ]
  },
  {
   "cell_type": "code",
   "execution_count": 64,
   "id": "204677bd",
   "metadata": {},
   "outputs": [
    {
     "ename": "SyntaxError",
     "evalue": "invalid syntax (<ipython-input-64-01a0ac4077cc>, line 2)",
     "output_type": "error",
     "traceback": [
      "\u001b[1;36m  File \u001b[1;32m\"<ipython-input-64-01a0ac4077cc>\"\u001b[1;36m, line \u001b[1;32m2\u001b[0m\n\u001b[1;33m    c1 = {'Name1' : 'Usman', 'Phone_num1' : '854346714576', 'Address1' : 'Karachi'},\u001b[0m\n\u001b[1;37m       ^\u001b[0m\n\u001b[1;31mSyntaxError\u001b[0m\u001b[1;31m:\u001b[0m invalid syntax\n"
     ]
    }
   ],
   "source": [
    "c_data = {\n",
    "    c1 = {'Name1' : 'Usman', 'Phone_num1' : '854346714576', 'Address1' : 'Karachi'},\n",
    "    c2 = {'Name2' : 'Affan', 'Phone_num2' : '564656464646', 'Address2' : 'Lahore'}}\n",
    "print(c_data[c1[Name1]])"
   ]
  },
  {
   "cell_type": "code",
   "execution_count": 70,
   "id": "29472e02",
   "metadata": {},
   "outputs": [
    {
     "name": "stdout",
     "output_type": "stream",
     "text": [
      "c1\n",
      "c2\n"
     ]
    }
   ],
   "source": [
    "for temp in c_data.keys():\n",
    "    print(temp)"
   ]
  },
  {
   "cell_type": "code",
   "execution_count": 133,
   "id": "c6646d71",
   "metadata": {},
   "outputs": [],
   "source": [
    "customer = []"
   ]
  },
  {
   "cell_type": "code",
   "execution_count": 132,
   "id": "5a6e2b2b",
   "metadata": {
    "scrolled": false
   },
   "outputs": [
    {
     "name": "stdout",
     "output_type": "stream",
     "text": [
      "Type Your Name: rre\n",
      "Type Your Phone Number: erh\n",
      "Type Your email: etr5r\n"
     ]
    }
   ],
   "source": [
    "\n",
    "user_name = input(\"Type Your Name: \")\n",
    "user_number = input(\"Type Your Phone Number: \")\n",
    "user_email = input(\"Type Your email: \")\n",
    "temp_dict = {}\n",
    "temp_dict['Username'] = user_name\n",
    "temp_dict['Usernumber'] = user_number\n",
    "temp_dict['Useremail'] = user_email\n",
    "customer.append(temp_dict)"
   ]
  },
  {
   "cell_type": "code",
   "execution_count": 124,
   "id": "ccd89db2",
   "metadata": {},
   "outputs": [],
   "source": [
    "Usernumber[1] = ['3849275743', '2987543207632']"
   ]
  },
  {
   "cell_type": "code",
   "execution_count": 128,
   "id": "3e0351cb",
   "metadata": {},
   "outputs": [],
   "source": [
    "customer[2]['Usernumber'] = ['3849275743', '2987543207632']\n"
   ]
  },
  {
   "cell_type": "code",
   "execution_count": 129,
   "id": "8e74cc80",
   "metadata": {},
   "outputs": [
    {
     "data": {
      "text/plain": [
       "[['3849275743', '2987543207632'],\n",
       " {'Username': 'Usman', 'Usernumber': '78462135', 'Useremail': 'mumtazrapheal'},\n",
       " {'Username': 'Affan',\n",
       "  'Usernumber': ['3849275743', '2987543207632'],\n",
       "  'Useremail': 'affan@'}]"
      ]
     },
     "execution_count": 129,
     "metadata": {},
     "output_type": "execute_result"
    }
   ],
   "source": [
    "customer"
   ]
  },
  {
   "cell_type": "code",
   "execution_count": 137,
   "id": "eda657a4",
   "metadata": {},
   "outputs": [],
   "source": [
    "d_customer = {}"
   ]
  },
  {
   "cell_type": "code",
   "execution_count": 138,
   "id": "e5ee2820",
   "metadata": {},
   "outputs": [
    {
     "name": "stdout",
     "output_type": "stream",
     "text": [
      "Type Your Name: Rapheal\n",
      "Type Your Phone Number: 25974260587\n",
      "Type Your email: mumtazrapheal@gmail.com\n"
     ]
    }
   ],
   "source": [
    "\n",
    "user_name = input(\"Type Your Name: \")\n",
    "user_number = input(\"Type Your Phone Number: \")\n",
    "user_email = input(\"Type Your email: \")\n",
    "temp_dict = {}\n",
    "temp_dict['Username'] = user_name\n",
    "temp_dict['Usernumber'] = user_number\n",
    "temp_dict['Useremail'] = user_email\n",
    "d_customer[user_email] = temp_dict"
   ]
  },
  {
   "cell_type": "code",
   "execution_count": 141,
   "id": "731857e2",
   "metadata": {},
   "outputs": [
    {
     "data": {
      "text/plain": [
       "'Rapheal'"
      ]
     },
     "execution_count": 141,
     "metadata": {},
     "output_type": "execute_result"
    }
   ],
   "source": [
    "d_customer['mumtazrapheal@gmail.com']['Username']\n"
   ]
  },
  {
   "cell_type": "code",
   "execution_count": null,
   "id": "fff49c00",
   "metadata": {},
   "outputs": [],
   "source": []
  }
 ],
 "metadata": {
  "kernelspec": {
   "display_name": "Python 3",
   "language": "python",
   "name": "python3"
  },
  "language_info": {
   "codemirror_mode": {
    "name": "ipython",
    "version": 3
   },
   "file_extension": ".py",
   "mimetype": "text/x-python",
   "name": "python",
   "nbconvert_exporter": "python",
   "pygments_lexer": "ipython3",
   "version": "3.8.8"
  }
 },
 "nbformat": 4,
 "nbformat_minor": 5
}
