{
 "cells": [
  {
   "cell_type": "code",
   "execution_count": 13,
   "id": "2c7b5798",
   "metadata": {
    "scrolled": false
   },
   "outputs": [
    {
     "name": "stdout",
     "output_type": "stream",
     "text": [
      "Welcome To Karachi\n"
     ]
    }
   ],
   "source": [
    "#Lists \n",
    "#c1 = [\"Karachi\", \"Lahore\", \"Multan\", \"Quetta\"]\n",
    "print (\"Welcome To\" + \" \"+ c1[0])"
   ]
  },
  {
   "cell_type": "code",
   "execution_count": 15,
   "id": "981c34ba",
   "metadata": {},
   "outputs": [
    {
     "name": "stdout",
     "output_type": "stream",
     "text": [
      "Because of Quetta, Lahore is out of PSL\n"
     ]
    }
   ],
   "source": [
    "\n",
    "print(\"Because of\" +\" \" + c1[3] + \", \" +c1[1] + \" \" + \"is out of PSL\")"
   ]
  },
  {
   "cell_type": "code",
   "execution_count": 118,
   "id": "13177e09",
   "metadata": {},
   "outputs": [],
   "source": [
    "c1 = [\"Karachi\", \"Lahore\", \"Multan\", \"Quetta\"]\n",
    "c2 = [\"Sukkar\", \"Nawabshah\", \"Azad Kashmir\", \"Hyderabad\"]\n",
    "c3 = (c1+c2)\n",
    "c1 = c1+[\"Peshawar\", \"Kashmir\"]\n",
    "c3.append ('Rawalpindi')\n",
    "c3.insert(0, \"Islamabad\")\n",
    "c3.insert(5, \"Mirpur Khas\")\n",
    "c3.insert(7, \"Dera Ismail Khan\")\n",
    "c3.insert(9, \"Muzaffargarh\")\n",
    "c3.insert(4, \"Khanpur\")\n",
    "c3.insert(3, \"Pakpattan\")\n",
    "\n",
    "c4 = c3[0]\n",
    "c3[0] = c3[2]\n",
    "c3[2] = c4\n"
   ]
  },
  {
   "cell_type": "code",
   "execution_count": 154,
   "id": "1a5573d4",
   "metadata": {
    "scrolled": true
   },
   "outputs": [
    {
     "name": "stdout",
     "output_type": "stream",
     "text": [
      "['Lahore', 'Karachi', 'Islamabad', 'Multan', 'Khanpur', 'Quetta', 'Mirpur Khas', 'Sukkar', 'Dera Ismail Khan', 'Nawabshah', 'Muzaffargarh', 'Azad Kashmir', 'Hyderabad', 'Rawalpindi']\n"
     ]
    }
   ],
   "source": [
    "c3 = ['Lahore', 'Karachi', 'Islamabad', 'Pakpattan', 'Multan', 'Khanpur', 'Quetta', 'Mirpur Khas', 'Sukkar', 'Dera Ismail Khan', 'Nawabshah', 'Muzaffargarh', 'Azad Kashmir', 'Hyderabad', 'Rawalpindi']\n",
    "# c3.remove(c3[0])\n",
    "# del (c3[2])\n",
    "c5 = []\n",
    "c5.append(c3.pop(3))\n",
    "print (c3[::])"
   ]
  },
  {
   "cell_type": "code",
   "execution_count": 157,
   "id": "d54b1436",
   "metadata": {
    "scrolled": true
   },
   "outputs": [
    {
     "name": "stdout",
     "output_type": "stream",
     "text": [
      "[1, 1, 1, 1, 'Pakpattan']\n"
     ]
    }
   ],
   "source": [
    "print (c5)"
   ]
  },
  {
   "cell_type": "code",
   "execution_count": 163,
   "id": "3c65f852",
   "metadata": {},
   "outputs": [
    {
     "name": "stdout",
     "output_type": "stream",
     "text": [
      "(1, 2, 3, 4, 5, 6, 7, 8)\n"
     ]
    }
   ],
   "source": [
    "t1 = (1, 2, 3, 4, 5, 6, 7, 8)\n",
    "print (t1)"
   ]
  },
  {
   "cell_type": "code",
   "execution_count": null,
   "id": "b30d8a24",
   "metadata": {},
   "outputs": [],
   "source": []
  },
  {
   "cell_type": "code",
   "execution_count": null,
   "id": "6bba7edb",
   "metadata": {},
   "outputs": [],
   "source": []
  }
 ],
 "metadata": {
  "kernelspec": {
   "display_name": "Python 3",
   "language": "python",
   "name": "python3"
  },
  "language_info": {
   "codemirror_mode": {
    "name": "ipython",
    "version": 3
   },
   "file_extension": ".py",
   "mimetype": "text/x-python",
   "name": "python",
   "nbconvert_exporter": "python",
   "pygments_lexer": "ipython3",
   "version": "3.8.8"
  }
 },
 "nbformat": 4,
 "nbformat_minor": 5
}
