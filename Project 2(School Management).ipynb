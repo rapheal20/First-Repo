{
 "cells": [
  {
   "cell_type": "code",
   "execution_count": 28,
   "id": "477e2d95",
   "metadata": {},
   "outputs": [],
   "source": [
    "school = {}"
   ]
  },
  {
   "cell_type": "code",
   "execution_count": 1,
   "id": "33585f2b",
   "metadata": {},
   "outputs": [
    {
     "ename": "IndentationError",
     "evalue": "expected an indented block (<ipython-input-1-bb10ca8f3f7a>, line 6)",
     "output_type": "error",
     "traceback": [
      "\u001b[1;36m  File \u001b[1;32m\"<ipython-input-1-bb10ca8f3f7a>\"\u001b[1;36m, line \u001b[1;32m6\u001b[0m\n\u001b[1;33m    c_data = {}\u001b[0m\n\u001b[1;37m    ^\u001b[0m\n\u001b[1;31mIndentationError\u001b[0m\u001b[1;31m:\u001b[0m expected an indented block\n"
     ]
    }
   ],
   "source": [
    "def character_creation():\n",
    "    stopper = ''\n",
    "    while stopper != 'a':\n",
    "        stopper = input(' To create a new character data press 1 \\n To exit press a \\n')\n",
    "        if stopper == '1':\n",
    "        c_data = {}\n",
    "        c_data['id'] = input('Enter character id: ').title()\n",
    "        c_data['name'] = input('Enter character name: ').title()\n",
    "        c_data['type'] = input('Enter character type: ').title()\n",
    "        if c_data['type'] == 'Student':\n",
    "            c_data['class'] = input('Enter character class: ').title()\n",
    "        c_data['age'] = input('Enter character age: ').title()      \n",
    "        if c_data['type'] != 'Student':\n",
    "            c_data['martialstatus'] = input('Enter charcter martial status: ').title()\n",
    "        if c_data['martialstatus'] == 'Married':\n",
    "            c_data['kids'] = input('Enter character kids: ').title()\n",
    "        elif c_data['martialstatus'] != 'Married':\n",
    "            c_data['kids'] = \"N/A\"\n",
    "        else:\n",
    "        character_martialstatus = 'N/A'\n",
    "        c_data['years'] = input('Enter character joining year: ').title()\n",
    "    \n",
    "        school['id']= c_data\n",
    "        print(school['id'])"
   ]
  },
  {
   "cell_type": "code",
   "execution_count": 19,
   "id": "8b62bbe0",
   "metadata": {},
   "outputs": [],
   "source": [
    "def character_update():\n",
    "    stopper = ''\n",
    "    while stopper != 'a':\n",
    "        stopper = input('To update a character data press 1 \\n To exit press a \\n')\n",
    "        if stopper == '1':\n",
    "        temp_c = input('Enter character id to be updated')\n",
    "        print(school[temp_c])\n",
    "        changer = input('What you want to change ')\n",
    "        school[temp_c][changer] = input(\"What is the new value \")\n",
    "        print(school[temp_c])"
   ]
  },
  {
   "cell_type": "code",
   "execution_count": 20,
   "id": "030a689d",
   "metadata": {},
   "outputs": [],
   "source": [
    "def character_read():\n",
    "    stopper = ''\n",
    "    while stopper != 'a':\n",
    "    stopper = input('To search via id press 1\\nTo search via age press 2\\nTo search via type press 3\\nTo search via status press 4\\nTo exit press a\\n')\n",
    "    if stopper == '1':\n",
    "        id = input('What is the character id ')\n",
    "         for i in school:\n",
    "            if school[i]['id'] == id:\n",
    "                print(school[i])\n",
    "            elif school[i]['id'] != id:\n",
    "                print('Invalaid Data')\n",
    "    elif stopper == '2':\n",
    "        age = input('What is the age you want to check')\n",
    "        for i in school:\n",
    "            if school[i]['age'] == age:\n",
    "                print(school[i])\n",
    "            elif school[i]['age'] != age:\n",
    "                print('Invalaid Data')\n",
    "    elif stopper == '3':\n",
    "        etype = input('Which type you want to check ')\n",
    "        for i in school:\n",
    "                if school[i]['type'] == etype:\n",
    "                    print(school[i])\n",
    "                elif school[i]['type'] != etype:\n",
    "                print('Invalaid Data')\n",
    "    elif stopper == '4':\n",
    "        martialstatus = input('Character with which martial status you want ')\n",
    "            for i in school:\n",
    "                if chool[i]['martialstatus'] == martialstatus:\n",
    "                    print(school[i])\n",
    "                elif school[i]['martialstatus'] != martialstatus:\n",
    "                print('Invalaid Data')"
   ]
  },
  {
   "cell_type": "code",
   "execution_count": 21,
   "id": "d6d9bd25",
   "metadata": {},
   "outputs": [],
   "source": [
    "def character_delete():\n",
    "    stopper = ''\n",
    "    while stopper != 'a':\n",
    "        stopper = input('To delete a character data press 1 \\n To exit press a \\n')\n",
    "        if stopper == '1':\n",
    "        delete = input('Enter the character id you want to delete ')\n",
    "        print(school[delete])\n",
    "        warning = input('Are you sure you want to delete it ')\n",
    "        if warning == 'Yes' or 'yes':\n",
    "            del (school[delete])\n",
    "            print(school)\n",
    "        elif warning != 'Yes' or 'yes':\n",
    "            print('Noting is deleated')\n",
    "            print(school)"
   ]
  },
  {
   "cell_type": "code",
   "execution_count": 23,
   "id": "168358d5",
   "metadata": {},
   "outputs": [],
   "source": [
    "def school_management():\n",
    "    stopper = ''\n",
    "    while stopper != 'q':\n",
    "        stopper = input(' To create a new character data press 1 \\n To update character data press 2 \\n To read character data press 3 \\n To delete a character data press 4 \\n To exit the program press q \\n')\n",
    "        if stopper == '1':\n",
    "            character_creation()\n",
    "        elif stopper == '2':\n",
    "            character_update()\n",
    "        elif stopper == '3':\n",
    "            character_read()\n",
    "        elif stopper == '4':\n",
    "            character_delete()"
   ]
  },
  {
   "cell_type": "code",
   "execution_count": 24,
   "id": "ce3034f0",
   "metadata": {},
   "outputs": [
    {
     "name": "stdout",
     "output_type": "stream",
     "text": [
      " To create a new character data press 1 \n",
      " To update character data press 2 \n",
      " To read character data press 3 \n",
      " To delete a character data press 4 \n",
      " To exit the program press q \n",
      "1\n",
      " To create a new character data press 1 \n",
      " To exit press a \n",
      "1\n",
      "Enter character id: 001\n",
      "Enter character name: Raphea\n",
      "Enter character type: student\n",
      "Enter character class: 8\n",
      "Enter character age: 13\n",
      "Enter character joining year: 2015\n",
      "{'id': '001', 'name': 'Raphea', 'type': 'Student', 'class': '8', 'age': '13', 'years': '2015'}\n",
      " To create a new character data press 1 \n",
      " To exit press a \n",
      "a\n",
      " To create a new character data press 1 \n",
      " To update character data press 2 \n",
      " To read character data press 3 \n",
      " To delete a character data press 4 \n",
      " To exit the program press q \n",
      "\n",
      " To create a new character data press 1 \n",
      " To update character data press 2 \n",
      " To read character data press 3 \n",
      " To delete a character data press 4 \n",
      " To exit the program press q \n",
      "3\n",
      "To search via id press 1\n",
      "To search via age press 2\n",
      "To search via type press 3\n",
      "To search via status press 4\n",
      "To exit press a\n",
      "2\n",
      "What is the age you want to check13\n",
      "{'id': '001', 'name': 'Raphea', 'type': 'Student', 'class': '8', 'age': '13', 'years': '2015'}\n",
      "To search via id press 1\n",
      "To search via age press 2\n",
      "To search via type press 3\n",
      "To search via status press 4\n",
      "To exit press a\n",
      "a\n",
      " To create a new character data press 1 \n",
      " To update character data press 2 \n",
      " To read character data press 3 \n",
      " To delete a character data press 4 \n",
      " To exit the program press q \n",
      "q\n"
     ]
    }
   ],
   "source": [
    "school_management()"
   ]
  },
  {
   "cell_type": "code",
   "execution_count": null,
   "id": "5ac1b340",
   "metadata": {},
   "outputs": [],
   "source": []
  },
  {
   "cell_type": "code",
   "execution_count": null,
   "id": "4129e3d7",
   "metadata": {},
   "outputs": [],
   "source": []
  }
 ],
 "metadata": {
  "kernelspec": {
   "display_name": "Python 3",
   "language": "python",
   "name": "python3"
  }
 },
 "nbformat": 4,
 "nbformat_minor": 5
}
