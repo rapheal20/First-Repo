{
 "cells": [
  {
   "cell_type": "code",
   "execution_count": 1,
   "id": "e8ccdf2f",
   "metadata": {},
   "outputs": [],
   "source": [
    "import csv\n"
   ]
  },
  {
   "cell_type": "code",
   "execution_count": 4,
   "id": "ae6a9ac5",
   "metadata": {
    "scrolled": true
   },
   "outputs": [],
   "source": [
    "with open('test.csv', 'w') as f:\n",
    "    data_entry = csv.writer(f, delimiter = ',')\n",
    "    data_entry.writerow([\"Year\", \"Event\", \"Winner\"])\n",
    "    data_entry.writerow([\"1995\", \"Best-Kept Lawn\", \"None\"])\n",
    "    data_entry.writerow([\"1999\", \"Gobstones\", \"Welch National\"])\n"
   ]
  },
  {
   "cell_type": "code",
   "execution_count": 45,
   "id": "f87334f1",
   "metadata": {},
   "outputs": [],
   "source": [
    "with open('school.csv', 'a', newline = \"\") as f:\n",
    "    data_type = csv.writer(f, delimiter = ',')\n",
    "    data_type.writerow(['Name', 'Father Name', 'Age', 'Class'])"
   ]
  },
  {
   "cell_type": "code",
   "execution_count": 46,
   "id": "de1889c8",
   "metadata": {},
   "outputs": [
    {
     "name": "stdout",
     "output_type": "stream",
     "text": [
      "Name:Rapheal\n",
      "Father Name:Mumtaz\n",
      "Age:13\n",
      "Class:8\n",
      "To quit press q\n",
      "Name:Anael \n",
      "Father Name:Mumtaz\n",
      "Age:11\n",
      "Class:7\n",
      "To quit press qq\n"
     ]
    }
   ],
   "source": [
    "\n",
    "stopper = ''\n",
    "while stopper != 'q':\n",
    "    name = input('Name:')\n",
    "    f_name = input('Father Name:')\n",
    "    age = input('Age:')\n",
    "    s_class = input('Class:')\n",
    "    with open('school.csv', 'a',  newline = \"\") as f:\n",
    "        data_entry = csv.writer(f, delimiter = ',')\n",
    "        data_entry.writerow([name, f_name, age, s_class])\n",
    "    stopper = input('To quit press q')"
   ]
  },
  {
   "cell_type": "code",
   "execution_count": 34,
   "id": "9b1369c6",
   "metadata": {},
   "outputs": [
    {
     "name": "stdout",
     "output_type": "stream",
     "text": [
      "['Name', 'Father Name', 'Age', 'Class']\n",
      "['Rapheal', 'Mumtaz', '13', '8']\n",
      "['Anael', 'Mumtaz', '11', '7']\n"
     ]
    }
   ],
   "source": [
    "with open('school.csv', 'r') as f:\n",
    "    data_read = csv.reader(f)\n",
    "    for i in data_read:\n",
    "        print(i)\n",
    "    "
   ]
  },
  {
   "cell_type": "code",
   "execution_count": 58,
   "id": "ef91bdf4",
   "metadata": {},
   "outputs": [],
   "source": [
    "data = []\n",
    "with open('school.csv', 'r') as f:\n",
    "    data_read = csv.reader(f)\n",
    "    for i in data_read:\n",
    "        data.append(i)\n",
    "for i in data:\n",
    "    for j in i:\n",
    "        if (j == 'Anael'):\n",
    "            i[2] = '11.5'\n",
    "with open('school.csv','w') as f:\n",
    "    data_writer = csv.writer(f)\n",
    "    data_writer.writerows(data)"
   ]
  },
  {
   "cell_type": "code",
   "execution_count": 59,
   "id": "323b15aa",
   "metadata": {},
   "outputs": [
    {
     "data": {
      "text/plain": [
       "[['Name', 'Father Name', 'Age', 'Class'],\n",
       " [],\n",
       " [],\n",
       " [],\n",
       " ['Rapheal', 'Mumtaz', '13', '8'],\n",
       " [],\n",
       " [],\n",
       " [],\n",
       " ['Anael ', 'Mumtaz', '11', '7'],\n",
       " [],\n",
       " [],\n",
       " []]"
      ]
     },
     "execution_count": 59,
     "metadata": {},
     "output_type": "execute_result"
    }
   ],
   "source": [
    "data"
   ]
  },
  {
   "cell_type": "code",
   "execution_count": 49,
   "id": "31fbf4e8",
   "metadata": {},
   "outputs": [],
   "source": [
    "import json"
   ]
  },
  {
   "cell_type": "code",
   "execution_count": 53,
   "id": "af6d1e49",
   "metadata": {},
   "outputs": [],
   "source": [
    "user_data = {\n",
    "    'Username':'Rapheal',\n",
    "    'Userfathername':'Mumtaz',\n",
    "    'Userage':'13',\n",
    "    'Useremail':'mumtazrapheal@gmail.com',\n",
    "}\n",
    "with open('user.json', 'w') as f:\n",
    "    json.dump(user_data, f)"
   ]
  },
  {
   "cell_type": "code",
   "execution_count": 57,
   "id": "4fdb3cc7",
   "metadata": {},
   "outputs": [
    {
     "name": "stdout",
     "output_type": "stream",
     "text": [
      "{'Username': 'Rapheal', 'Userfathername': 'Mumtaz', 'Userage': '13', 'Useremail': 'mumtazrapheal@gmail.com'}\n"
     ]
    }
   ],
   "source": [
    "with open('user.json', 'r') as f:\n",
    "    data = json.load(f)\n",
    "    print(data)"
   ]
  },
  {
   "cell_type": "code",
   "execution_count": 56,
   "id": "f5a941c3",
   "metadata": {},
   "outputs": [
    {
     "data": {
      "text/plain": [
       "{'Username': 'Rapheal',\n",
       " 'Userfathername': 'Mumtaz',\n",
       " 'Userage': '13',\n",
       " 'Useremail': 'mumtazrapheal@gmail.com'}"
      ]
     },
     "execution_count": 56,
     "metadata": {},
     "output_type": "execute_result"
    }
   ],
   "source": [
    "data"
   ]
  },
  {
   "cell_type": "code",
   "execution_count": null,
   "id": "c3b58643",
   "metadata": {},
   "outputs": [],
   "source": []
  }
 ],
 "metadata": {
  "kernelspec": {
   "display_name": "Python 3",
   "language": "python",
   "name": "python3"
  },
  "language_info": {
   "codemirror_mode": {
    "name": "ipython",
    "version": 3
   },
   "file_extension": ".py",
   "mimetype": "text/x-python",
   "name": "python",
   "nbconvert_exporter": "python",
   "pygments_lexer": "ipython3",
   "version": "3.8.8"
  }
 },
 "nbformat": 4,
 "nbformat_minor": 5
}
