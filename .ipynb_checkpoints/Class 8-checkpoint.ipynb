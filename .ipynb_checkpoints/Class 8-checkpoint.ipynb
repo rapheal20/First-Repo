{
 "cells": [
  {
   "cell_type": "code",
   "execution_count": 5,
   "id": "2da53f15",
   "metadata": {},
   "outputs": [],
   "source": [
    "def pizza_order(crust_type, pizza_flavor, **extra_info):\n",
    "    print(\"Your pizza crust \" + crust_type)\n",
    "    print(\"Your pizza flavor is \" + pizza_flavor)\n",
    "    for i,j in extra_info.items():\n",
    "        print('Your selected', i, 'Is', j)\n"
   ]
  },
  {
   "cell_type": "code",
   "execution_count": 7,
   "id": "eb80e50a",
   "metadata": {
    "scrolled": true
   },
   "outputs": [
    {
     "name": "stdout",
     "output_type": "stream",
     "text": [
      "Your pizza crust Thick\n",
      "Your pizza flavor is Chicken Tikka\n",
      "Your selected Size Is Extra Large\n"
     ]
    }
   ],
   "source": [
    "pizza_order('Thick', 'Chicken Tikka', Size = 'Extra Large')"
   ]
  },
  {
   "cell_type": "code",
   "execution_count": 8,
   "id": "c4c2d8ba",
   "metadata": {},
   "outputs": [],
   "source": [
    "def calculator(num1, num2, *number):\n",
    "    rep = num1 + num2\n",
    "    for i in number:\n",
    "        rep += i \n",
    "    print(rep)\n",
    "        "
   ]
  },
  {
   "cell_type": "code",
   "execution_count": 9,
   "id": "80797279",
   "metadata": {},
   "outputs": [
    {
     "name": "stdout",
     "output_type": "stream",
     "text": [
      "45\n"
     ]
    }
   ],
   "source": [
    "calculator(1,2,3,4,5,6,7,8,9)"
   ]
  },
  {
   "cell_type": "code",
   "execution_count": 10,
   "id": "47f75052",
   "metadata": {},
   "outputs": [],
   "source": [
    "def calculator_sub(num1, num2, *number):\n",
    "    rep = num1 - num2\n",
    "    for i in number:\n",
    "        rep -= i \n",
    "    print(rep)\n",
    "        "
   ]
  },
  {
   "cell_type": "code",
   "execution_count": 11,
   "id": "52e312ad",
   "metadata": {},
   "outputs": [
    {
     "name": "stdout",
     "output_type": "stream",
     "text": [
      "-141\n"
     ]
    }
   ],
   "source": [
    "calculator_sub(50,3,65,76,4,43)"
   ]
  },
  {
   "cell_type": "code",
   "execution_count": 14,
   "id": "2d38f865",
   "metadata": {},
   "outputs": [
    {
     "name": "stdout",
     "output_type": "stream",
     "text": [
      "Enter a number or press q to quitq\n",
      "q\n"
     ]
    }
   ],
   "source": [
    "user_input = \"\"\n",
    "while user_input != 'q':\n",
    "    user_input = input(\"Enter a number or press q to quit\")\n",
    "    print(user_input)"
   ]
  },
  {
   "cell_type": "code",
   "execution_count": 28,
   "id": "5d18ab6a",
   "metadata": {},
   "outputs": [
    {
     "name": "stdout",
     "output_type": "stream",
     "text": [
      "Enter a number5\n",
      "Enter a number5\n",
      "10\n",
      "To stop press qq\n"
     ]
    }
   ],
   "source": [
    "stopper = ''\n",
    "while stopper != 'q':\n",
    "    num1 = int(input('Enter a number'))\n",
    "    num2 = int(input('Enter a number'))\n",
    "    print(num1 + num2)\n",
    "    stopper = input('To stop press q')\n",
    "    \n",
    "    \n",
    "    "
   ]
  },
  {
   "cell_type": "code",
   "execution_count": null,
   "id": "917f9cf4",
   "metadata": {},
   "outputs": [],
   "source": [
    "customer = {}\n",
    "stopper = ''\n",
    "\n",
    "while "
   ]
  },
  {
   "cell_type": "code",
   "execution_count": null,
   "id": "ba8cd8b3",
   "metadata": {},
   "outputs": [],
   "source": []
  }
 ],
 "metadata": {
  "kernelspec": {
   "display_name": "Python 3",
   "language": "python",
   "name": "python3"
  },
  "language_info": {
   "codemirror_mode": {
    "name": "ipython",
    "version": 3
   },
   "file_extension": ".py",
   "mimetype": "text/x-python",
   "name": "python",
   "nbconvert_exporter": "python",
   "pygments_lexer": "ipython3",
   "version": "3.8.8"
  }
 },
 "nbformat": 4,
 "nbformat_minor": 5
}
