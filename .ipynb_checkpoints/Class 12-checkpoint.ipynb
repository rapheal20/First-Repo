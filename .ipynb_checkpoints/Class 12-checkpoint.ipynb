{
 "cells": [
  {
   "cell_type": "code",
   "execution_count": 1,
   "id": "df078374",
   "metadata": {},
   "outputs": [],
   "source": [
    "import Calculator\n"
   ]
  },
  {
   "cell_type": "code",
   "execution_count": 2,
   "id": "975cec45",
   "metadata": {},
   "outputs": [],
   "source": [
    "result = Calculator.add(2,4)"
   ]
  },
  {
   "cell_type": "code",
   "execution_count": 3,
   "id": "cc74cb65",
   "metadata": {},
   "outputs": [
    {
     "name": "stdout",
     "output_type": "stream",
     "text": [
      "6\n"
     ]
    }
   ],
   "source": [
    "print(result)"
   ]
  },
  {
   "cell_type": "code",
   "execution_count": 8,
   "id": "88900356",
   "metadata": {},
   "outputs": [],
   "source": [
    "res = Calculator.subtract(112,2)"
   ]
  },
  {
   "cell_type": "code",
   "execution_count": 9,
   "id": "0775d983",
   "metadata": {},
   "outputs": [
    {
     "name": "stdout",
     "output_type": "stream",
     "text": [
      "114\n"
     ]
    }
   ],
   "source": [
    "print(res)"
   ]
  },
  {
   "cell_type": "code",
   "execution_count": null,
   "id": "064d31b1",
   "metadata": {},
   "outputs": [],
   "source": []
  }
 ],
 "metadata": {
  "kernelspec": {
   "display_name": "Python 3",
   "language": "python",
   "name": "python3"
  },
  "language_info": {
   "codemirror_mode": {
    "name": "ipython",
    "version": 3
   },
   "file_extension": ".py",
   "mimetype": "text/x-python",
   "name": "python",
   "nbconvert_exporter": "python",
   "pygments_lexer": "ipython3",
   "version": "3.8.8"
  }
 },
 "nbformat": 4,
 "nbformat_minor": 5
}
