{
 "cells": [
  {
   "cell_type": "code",
   "execution_count": 16,
   "id": "e10f5fff",
   "metadata": {},
   "outputs": [],
   "source": [
    "pc = [\"Karachi\", \"Lahore\", \"Peshawar\", \"Islamabad\", \"Multan\"]\n",
    "wr = \"Multan\"\n"
   ]
  },
  {
   "cell_type": "code",
   "execution_count": 17,
   "id": "93c47d18",
   "metadata": {
    "scrolled": false
   },
   "outputs": [
    {
     "name": "stdout",
     "output_type": "stream",
     "text": [
      "Hahahahahaha! Your Team is a Loser!\n",
      "Hahahahahaha! Your Team is a Loser!\n",
      "Hahahahahaha! Your Team is a Loser!\n",
      "Hahahahahaha! Your Team is a Loser!\n",
      "Multan Is The Mighty Winner, Do learn from him\n"
     ]
    }
   ],
   "source": [
    "for tc in pc :\n",
    "    if tc == wr:\n",
    "        print(tc, \"Is The Mighty Winner, Do learn from him\")\n",
    "    else:\n",
    "        print(\"Hahahahahaha! Your Team is a Loser!\")"
   ]
  },
  {
   "cell_type": "code",
   "execution_count": 26,
   "id": "8e6413bd",
   "metadata": {},
   "outputs": [
    {
     "name": "stdout",
     "output_type": "stream",
     "text": [
      "I will Not Late In Class😊😒\n",
      "I will Not Late In Class😊😒\n",
      "I will Not Late In Class😊😒\n",
      "I will Not Late In Class😊😒\n",
      "I will Not Late In Class😊😒\n",
      "I will Not Late In Class😊😒\n",
      "I will Not Late In Class😊😒\n",
      "I will Not Late In Class😊😒\n",
      "I will Not Late In Class😊😒\n",
      "I will Not Late In Class😊😒\n"
     ]
    }
   ],
   "source": [
    "for i in range (10):\n",
    "    print (\"I will Not Late In Class😊😒\")"
   ]
  },
  {
   "cell_type": "code",
   "execution_count": 35,
   "id": "81967633",
   "metadata": {},
   "outputs": [],
   "source": [
    "fn = [\"BlueRay\", \"Upchuck\", \"Lojack\", \"Gizmo\", \"Do-Rag\"]\n",
    "ln = [\"Zzz\", \"Burp\", \"Dogbone\", \"Droop\"]\n",
    "ffn = []"
   ]
  },
  {
   "cell_type": "code",
   "execution_count": 39,
   "id": "28945078",
   "metadata": {},
   "outputs": [],
   "source": [
    "for f_n in fn:\n",
    "    for l_n in ln:\n",
    "        ffn.append\n",
    "                "
   ]
  },
  {
   "cell_type": "code",
   "execution_count": 46,
   "id": "b42afc87",
   "metadata": {},
   "outputs": [
    {
     "name": "stdout",
     "output_type": "stream",
     "text": [
      "What is your name?Rapheal\n",
      "Hmm, your name is Rapheal\n"
     ]
    }
   ],
   "source": [
    "name = input(\"What is your name?\")\n",
    "print (\"Hmm, your name is\", name)"
   ]
  },
  {
   "cell_type": "code",
   "execution_count": 56,
   "id": "b8fcdfd5",
   "metadata": {},
   "outputs": [
    {
     "name": "stdout",
     "output_type": "stream",
     "text": [
      "Number 1 = 5\n",
      "Number 2 = 6\n",
      "Sum of both numbers is 56\n"
     ]
    }
   ],
   "source": [
    "a = (input(\"Number 1\" + \" = \"))\n",
    "b = (input(\"Number 2\" + \" = \"))\n",
    "\n",
    "print(\"Sum of both numbers is\", a + b)"
   ]
  },
  {
   "cell_type": "code",
   "execution_count": null,
   "id": "51ec31d4",
   "metadata": {},
   "outputs": [],
   "source": [
    "try:\n",
    "    num1 = int(num1)\n",
    "    num2 = int(num2)\n",
    "    res = num1 + num2\n",
    "    print(\"Sum =\", res)\n",
    "except:\n",
    "    res = num1 + num2\n",
    "    print(\"Sum =\", res)"
   ]
  },
  {
   "cell_type": "code",
   "execution_count": 57,
   "id": "e1f23833",
   "metadata": {},
   "outputs": [],
   "source": [
    "#google collabe"
   ]
  },
  {
   "cell_type": "code",
   "execution_count": 84,
   "id": "ede5f175",
   "metadata": {},
   "outputs": [
    {
     "name": "stdout",
     "output_type": "stream",
     "text": [
      "Supporting City? karachi\n",
      "You are supporting\n",
      "You are not supporting\n",
      "You are not supporting\n",
      "You are not supporting\n",
      "You are not supporting\n"
     ]
    }
   ],
   "source": [
    "pc = [\"Karachi\", \"Lahore\", \"Peshawar\", \"Islamabad\", \"Multan\"]\n",
    "city = input(\"Supporting City? \")\n",
    "city = city.title()\n",
    "for i1 in pc:\n",
    "    if i1 == city:\n",
    "        print(\"You are supporting\")\n",
    "    else:\n",
    "        print(\"You are not supporting\")\n",
    "    "
   ]
  },
  {
   "cell_type": "code",
   "execution_count": null,
   "id": "30089cf8",
   "metadata": {},
   "outputs": [],
   "source": []
  },
  {
   "cell_type": "code",
   "execution_count": null,
   "id": "3431faa1",
   "metadata": {},
   "outputs": [],
   "source": []
  }
 ],
 "metadata": {
  "kernelspec": {
   "display_name": "Python 3",
   "language": "python",
   "name": "python3"
  },
  "language_info": {
   "codemirror_mode": {
    "name": "ipython",
    "version": 3
   },
   "file_extension": ".py",
   "mimetype": "text/x-python",
   "name": "python",
   "nbconvert_exporter": "python",
   "pygments_lexer": "ipython3",
   "version": "3.8.8"
  }
 },
 "nbformat": 4,
 "nbformat_minor": 5
}
