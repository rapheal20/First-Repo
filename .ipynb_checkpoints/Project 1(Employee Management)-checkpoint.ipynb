{
 "cells": [
  {
   "cell_type": "code",
   "execution_count": 1,
   "id": "94308b78",
   "metadata": {},
   "outputs": [],
   "source": [
    "employee={}"
   ]
  },
  {
   "cell_type": "code",
   "execution_count": null,
   "id": "77fc3a78",
   "metadata": {},
   "outputs": [],
   "source": [
    "def employee_creation():\n",
    "    stopper = ''\n",
    "    while stopper != 'a':\n",
    "        stopper = input(' To create a new employee press 1 \\n To exit press a \\n')\n",
    "        if stopper == '1':\n",
    "        e_data = {}\n",
    "        e_data['id'] = input('Enter employee id: ').title()\n",
    "        e_data['name'] = input('Enter employee name: ').title()\n",
    "        e_data['type'] = input('Enter employee type: ').title()\n",
    "        e_data['age'] = input('Enter employee age: ').title()\n",
    "        e_data['martialstatus'] = input('Enter employee Martial status: ').title()\n",
    "        if e_data['martialstatus'] == 'Married':\n",
    "            e_data['kids'] = input('Enter employee kids:').title()\n",
    "        elif e_data['martialstatus'] != 'Married':\n",
    "            e_data['kids'] = 'N/A'\n",
    "        e_data['years'] = input('Enter employee joining date: ').title()\n",
    "        employee[e_data['id']]= e_data\n",
    "        print(employee)    "
   ]
  },
  {
   "cell_type": "code",
   "execution_count": null,
   "id": "31a95eee",
   "metadata": {},
   "outputs": [],
   "source": [
    "def employee_update():\n",
    "    stopper = ''\n",
    "    while stopper != 'a':\n",
    "        stopper = input('To update a employee press 1 \\n To exit press a \\n')\n",
    "        if stopper == '1':\n",
    "            temp_e = input('Enter employee id to be updated')\n",
    "            print(employee[temp_e])\n",
    "            changer = input('What you want to change ')\n",
    "            employee[temp_e][changer] = input(\"What is the new value \")\n",
    "            print(employee[temp_e])"
   ]
  },
  {
   "cell_type": "code",
   "execution_count": null,
   "id": "831ce211",
   "metadata": {},
   "outputs": [],
   "source": [
    "def employee_read():\n",
    "    stopper = ''\n",
    "    while stopper != 'a':\n",
    "        stopper = input('To search via id press 1\\nTo search via age press 2\\nTo search via type press 3\\nTo search via status press 4\\nTo exit press a\\n')\n",
    "        if stopper == '1':\n",
    "            id = input('What is the employee id ')\n",
    "            for i in employee:\n",
    "                if employee[i]['id'] == id:\n",
    "                    print(employee[i])\n",
    "                elif employee[i]['id'] != id:\n",
    "                    print('Invalaid Data')\n",
    "        elif stopper == '2':\n",
    "            age = input('What is the age you want to check')\n",
    "            for i in employee:\n",
    "                if employee[i]['age'] == age:\n",
    "                    print(employee[i])\n",
    "                elif employee[i]['age'] != age:\n",
    "                    print('Invalaid Data')\n",
    "        elif stopper == '3':\n",
    "            etype = input('Which type you want to check ')\n",
    "            for i in employee:\n",
    "                if employee[i]['type'] == etype:\n",
    "                    print(employee[i])\n",
    "                elif employee[i]['type'] != etype:\n",
    "                    print('Invalaid Data')\n",
    "        elif stopper == '4':\n",
    "            mstatus = input('Employees with which martialstatus you want ')\n",
    "            for i in employee:\n",
    "                if employee[i]['martialstatus'] == mstatus:\n",
    "                    print(employee[i])\n",
    "                elif employee[i]['martialstatus'] != mstatus:\n",
    "                    print('Invalaid Data')"
   ]
  },
  {
   "cell_type": "code",
   "execution_count": null,
   "id": "53862ee7",
   "metadata": {},
   "outputs": [],
   "source": [
    "def employee_delete():\n",
    "    stopper = ''\n",
    "    while stopper != 'a':\n",
    "        stopper = input('To delete a employee press 1 \\n To exit press a \\n')\n",
    "        if stopper == '1':\n",
    "            delete = input('Enter the employee id you want to delete ')\n",
    "            print(employee[delete])\n",
    "            warning = input('Are you sure you want to delete it ')\n",
    "            if warning == 'Yes' or 'yes':\n",
    "                del (employee[delete])\n",
    "                print(employee)\n",
    "            elif warning != 'Yes' or 'yes':\n",
    "                print('Noting is deleated')\n",
    "                print(employee)\n",
    "\n",
    "\n"
   ]
  },
  {
   "cell_type": "code",
   "execution_count": null,
   "id": "6d5c6d8a",
   "metadata": {},
   "outputs": [],
   "source": [
    "def employee_managment():\n",
    "    stopper = ''\n",
    "    while stopper != 'q':\n",
    "        stopper = input(' To create a new employee data press 1 \\n To update a emplyee data press 2 \\n To read employee data press 3 \\n To delete a employee data press 4 \\n To exit the program press q')\n",
    "        if stopper == '1':\n",
    "            employee_creation()\n",
    "        elif stopper == '2':\n",
    "            employee_update()\n",
    "        elif stopper == '3':\n",
    "            employee_read()\n",
    "        elif stopper == '4':\n",
    "            employee_delete()\n"
   ]
  }
 ],
 "metadata": {
  "kernelspec": {
   "display_name": "Python 3",
   "language": "python",
   "name": "python3"
  },
  "language_info": {
   "codemirror_mode": {
    "name": "ipython",
    "version": 3
   },
   "file_extension": ".py",
   "mimetype": "text/x-python",
   "name": "python",
   "nbconvert_exporter": "python",
   "pygments_lexer": "ipython3",
   "version": "3.8.8"
  }
 },
 "nbformat": 4,
 "nbformat_minor": 5
}
