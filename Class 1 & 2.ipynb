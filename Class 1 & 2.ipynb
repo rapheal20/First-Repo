{
 "cells": [
  {
   "cell_type": "code",
   "execution_count": 17,
   "id": "8ae6b9fe",
   "metadata": {},
   "outputs": [
    {
     "name": "stdout",
     "output_type": "stream",
     "text": [
      "Aww!!\n"
     ]
    }
   ],
   "source": [
    "a = 19\n",
    "if a == 18:\n",
    "    print (\"Yup!!\")\n",
    "else:\n",
    "    print (\"Aww!!\")"
   ]
  },
  {
   "cell_type": "code",
   "execution_count": 13,
   "id": "25d81396",
   "metadata": {},
   "outputs": [
    {
     "name": "stdout",
     "output_type": "stream",
     "text": [
      "n1 is  not equal to n2\n"
     ]
    }
   ],
   "source": [
    "n1 = 5\n",
    "n2 = 2\n",
    "if n1 != n2:\n",
    "    print (\"n1 is  not equal to n2\")\n",
    "else:\n",
    "    print (\"n1 is equal to n2\")"
   ]
  },
  {
   "cell_type": "code",
   "execution_count": 10,
   "id": "485bf041",
   "metadata": {},
   "outputs": [
    {
     "name": "stdout",
     "output_type": "stream",
     "text": [
      "You can proceed\n"
     ]
    }
   ],
   "source": [
    "p1 = 634764536\n",
    "p2 = \"rapheal123\"\n",
    "if p1 == p2:\n",
    "    print (\"Select some other password\")\n",
    "else:\n",
    "    print (\"You can proceed\")"
   ]
  },
  {
   "cell_type": "code",
   "execution_count": null,
   "id": "0c538743",
   "metadata": {},
   "outputs": [],
   "source": [
    "w = 300\n",
    "T = 6\n",
    "H = 5.8\n",
    "if (w >= 300) and (T >= 6) and (H <= 5.8):\n",
    "    print (\"Recurit him\")"
   ]
  },
  {
   "cell_type": "code",
   "execution_count": 31,
   "id": "e5a39097",
   "metadata": {},
   "outputs": [
    {
     "name": "stdout",
     "output_type": "stream",
     "text": [
      "Recurit Him\n"
     ]
    }
   ],
   "source": [
    "W = 300\n",
    "T = 6\n",
    "H = 5.8\n",
    "\n",
    "if W >= 300:\n",
    "    if T >= 6:\n",
    "        if H <= 5.8:\n",
    "            print (\"Recurit Him\")"
   ]
  },
  {
   "cell_type": "code",
   "execution_count": null,
   "id": "e324c9e3",
   "metadata": {},
   "outputs": [],
   "source": []
  },
  {
   "cell_type": "code",
   "execution_count": null,
   "id": "f351a9d5",
   "metadata": {},
   "outputs": [],
   "source": []
  },
  {
   "cell_type": "code",
   "execution_count": null,
   "id": "d5a3254a",
   "metadata": {},
   "outputs": [],
   "source": []
  },
  {
   "cell_type": "code",
   "execution_count": null,
   "id": "8ee1ee11",
   "metadata": {},
   "outputs": [],
   "source": []
  }
 ],
 "metadata": {
  "kernelspec": {
   "display_name": "Python 3",
   "language": "python",
   "name": "python3"
  },
  "language_info": {
   "codemirror_mode": {
    "name": "ipython",
    "version": 3
   },
   "file_extension": ".py",
   "mimetype": "text/x-python",
   "name": "python",
   "nbconvert_exporter": "python",
   "pygments_lexer": "ipython3",
   "version": "3.8.8"
  }
 },
 "nbformat": 4,
 "nbformat_minor": 5
}
