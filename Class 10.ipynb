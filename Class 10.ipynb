{
 "cells": [
  {
   "cell_type": "code",
   "execution_count": null,
   "id": "4ccd59cf",
   "metadata": {},
   "outputs": [],
   "source": [
    "with open('Test.txt', 'w') as file:\n",
    "    file.write('Firsttextfile.txt')"
   ]
  },
  {
   "cell_type": "code",
   "execution_count": 12,
   "id": "18647db1",
   "metadata": {},
   "outputs": [],
   "source": [
    "with open('test.txt', 'w') as file:\n",
    "    file.write('I am Rapheal \\n I am a student of class 8 \\n i am 13 year old' )"
   ]
  },
  {
   "cell_type": "code",
   "execution_count": 13,
   "id": "c74fcdb6",
   "metadata": {},
   "outputs": [],
   "source": [
    "with open('test.txt',  'r') as file2:\n",
    "    test_data = file2.read()"
   ]
  },
  {
   "cell_type": "code",
   "execution_count": 15,
   "id": "cc5cd67a",
   "metadata": {},
   "outputs": [
    {
     "name": "stdout",
     "output_type": "stream",
     "text": [
      "I am Rapheal \n",
      " I am a student of class 8 \n",
      " i am 13 year old\n"
     ]
    }
   ],
   "source": [
    "print(test_data)"
   ]
  },
  {
   "cell_type": "code",
   "execution_count": 18,
   "id": "418bcc89",
   "metadata": {},
   "outputs": [],
   "source": [
    "with open('test.txt', 'w') as file2:\n",
    "    file2.write('new data')"
   ]
  },
  {
   "cell_type": "code",
   "execution_count": 19,
   "id": "d14ba479",
   "metadata": {},
   "outputs": [],
   "source": [
    "with open('test.txt', 'a') as file2:\n",
    "    file2.write('new line')"
   ]
  },
  {
   "cell_type": "code",
   "execution_count": 53,
   "id": "2faa19ed",
   "metadata": {},
   "outputs": [],
   "source": [
    "c_data = {}"
   ]
  },
  {
   "cell_type": "code",
   "execution_count": 56,
   "id": "8311c449",
   "metadata": {
    "collapsed": true
   },
   "outputs": [
    {
     "name": "stdout",
     "output_type": "stream",
     "text": [
      " To create a new character data press 1 \n",
      " To exit press a \n",
      "1\n",
      "Enter character name: Anael\n",
      "Enter character age: 11\n",
      "Enter character class: 7\n",
      " To create a new character data press 1 \n",
      " To exit press a \n",
      "a\\\n",
      " To create a new character data press 1 \n",
      " To exit press a \n",
      "a\n"
     ]
    }
   ],
   "source": [
    "stopper = ''\n",
    "while stopper != 'a':\n",
    "    stopper = input(' To create a new character data press 1 \\n To exit press a \\n')\n",
    "    if stopper == '1':\n",
    "        with open('School.txt', 'a') as file:\n",
    "            c_data['name'] = input('Enter character name: ').title()\n",
    "            c_data['age'] = input('Enter character age: ').title()      \n",
    "            c_data['class'] = input('Enter character class: ').title()\n",
    "            file.write('\\nName : ' + c_data['name'])\n",
    "            file.write('\\nage : ' + c_data['age'])\n",
    "            file.write('\\nclass : ' + c_data['class'])\n",
    "            \n",
    "    "
   ]
  },
  {
   "cell_type": "code",
   "execution_count": null,
   "id": "93468674",
   "metadata": {},
   "outputs": [],
   "source": []
  }
 ],
 "metadata": {
  "kernelspec": {
   "display_name": "Python 3",
   "language": "python",
   "name": "python3"
  },
  "language_info": {
   "codemirror_mode": {
    "name": "ipython",
    "version": 3
   },
   "file_extension": ".py",
   "mimetype": "text/x-python",
   "name": "python",
   "nbconvert_exporter": "python",
   "pygments_lexer": "ipython3",
   "version": "3.8.8"
  }
 },
 "nbformat": 4,
 "nbformat_minor": 5
}
