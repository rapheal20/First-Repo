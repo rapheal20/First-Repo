{
 "cells": [
  {
   "cell_type": "code",
   "execution_count": 2,
   "id": "3b6bde0a",
   "metadata": {},
   "outputs": [],
   "source": [
    "#Type 1(Takes nothing, returns nothing)\n",
    "\n",
    "def number():\n",
    "    print(5+2)"
   ]
  },
  {
   "cell_type": "code",
   "execution_count": 3,
   "id": "d24d2e14",
   "metadata": {},
   "outputs": [
    {
     "name": "stdout",
     "output_type": "stream",
     "text": [
      "7\n"
     ]
    }
   ],
   "source": [
    "number()"
   ]
  },
  {
   "cell_type": "code",
   "execution_count": 8,
   "id": "c3cc688e",
   "metadata": {},
   "outputs": [],
   "source": [
    "#Type 2(Takes something, returns nothing)\n",
    "\n",
    "def number_advance(x, y):\n",
    "    print(x  + y)\n",
    "    \n",
    "def number_subraction(x, y):\n",
    "    print(x  - y)\n",
    "\n",
    "def number_multi(x, y):\n",
    "    print(x  * y)\n",
    "    \n",
    "def number_div(x, y):\n",
    "    print(x  / y)"
   ]
  },
  {
   "cell_type": "code",
   "execution_count": 9,
   "id": "4b7a9002",
   "metadata": {},
   "outputs": [
    {
     "name": "stdout",
     "output_type": "stream",
     "text": [
      "7\n",
      "-1\n",
      "25\n",
      "4.0\n"
     ]
    }
   ],
   "source": [
    "number_advance(2, 5)\n",
    "number_subraction(7,8)\n",
    "number_multi(5, 5)\n",
    "number_div(8, 2)"
   ]
  },
  {
   "cell_type": "code",
   "execution_count": 10,
   "id": "debd754c",
   "metadata": {},
   "outputs": [],
   "source": [
    "#Type 3(Take nothing, returns something)\n",
    "\n",
    "import random\n",
    "\n"
   ]
  },
  {
   "cell_type": "code",
   "execution_count": 19,
   "id": "cf2da27c",
   "metadata": {},
   "outputs": [],
   "source": [
    "def rrn():\n",
    "    num = random.randint(0, 10)\n",
    "    return num"
   ]
  },
  {
   "cell_type": "code",
   "execution_count": 24,
   "id": "1e136854",
   "metadata": {},
   "outputs": [
    {
     "name": "stdout",
     "output_type": "stream",
     "text": [
      "4\n"
     ]
    }
   ],
   "source": [
    "g_n = rrn()\n",
    "print(g_n)"
   ]
  },
  {
   "cell_type": "code",
   "execution_count": 28,
   "id": "6d125fec",
   "metadata": {},
   "outputs": [
    {
     "name": "stdout",
     "output_type": "stream",
     "text": [
      "Guess the number 5\n",
      "Go jump in chulu bhar pani\n"
     ]
    }
   ],
   "source": [
    "num = int(input(\"Guess the number \"))\n",
    "if g_n == num:\n",
    "    print(\"You are the beast\")\n",
    "elif g_n != num:\n",
    "    print(\"Go jump in chulu bhar pani\")\n"
   ]
  },
  {
   "cell_type": "code",
   "execution_count": 48,
   "id": "ce2b0bae",
   "metadata": {},
   "outputs": [],
   "source": [
    "#Type 4(Take something, return something)\n",
    "\n",
    "\n",
    "def number_very_advance1(x, y):\n",
    "    num = (x + y)\n",
    "    return num\n",
    "\n",
    "def number_very_advance2(x, y):\n",
    "    num = (x - y)\n",
    "    return num\n",
    "\n",
    "def number_very_advance3(x, y):\n",
    "    num = (x * y)\n",
    "    return num\n",
    "\n",
    "def number_very_advance4(x, y):\n",
    "    num = (x / y)\n",
    "    return num\n",
    "    \n",
    "    "
   ]
  },
  {
   "cell_type": "code",
   "execution_count": 43,
   "id": "99336c50",
   "metadata": {},
   "outputs": [
    {
     "name": "stdout",
     "output_type": "stream",
     "text": [
      "Tell the first number 5\n",
      "Tell the other number5\n",
      "10\n"
     ]
    }
   ],
   "source": [
    "x = int(input(\"Tell the first number \"))\n",
    "y = int(input(\"Tell the other number\"))\n",
    "v = number_very_advance1(x, y)\n",
    "print(v1)\n"
   ]
  },
  {
   "cell_type": "code",
   "execution_count": 49,
   "id": "a4de68ca",
   "metadata": {},
   "outputs": [
    {
     "name": "stdout",
     "output_type": "stream",
     "text": [
      "Tell the first number 8\n",
      "Tell the other number4\n",
      "4\n"
     ]
    }
   ],
   "source": [
    "x = int(input(\"Tell the first number \"))\n",
    "y = int(input(\"Tell the other number\"))\n",
    "v2 = number_very_advance2(x, y)\n",
    "print(v2)"
   ]
  },
  {
   "cell_type": "code",
   "execution_count": 50,
   "id": "e9d51768",
   "metadata": {},
   "outputs": [
    {
     "name": "stdout",
     "output_type": "stream",
     "text": [
      "Tell the first number 5\n",
      "Tell the other number5\n",
      "25\n"
     ]
    }
   ],
   "source": [
    "x = int(input(\"Tell the first number \"))\n",
    "y = int(input(\"Tell the other number\"))\n",
    "v3 = number_very_advance3(x, y)\n",
    "print(v3)"
   ]
  },
  {
   "cell_type": "code",
   "execution_count": 51,
   "id": "67e2c3a3",
   "metadata": {},
   "outputs": [
    {
     "name": "stdout",
     "output_type": "stream",
     "text": [
      "Tell the first number 7\n",
      "Tell the other number2\n",
      "3.5\n"
     ]
    }
   ],
   "source": [
    "x = int(input(\"Tell the first number \"))\n",
    "y = int(input(\"Tell the other number\"))\n",
    "v4 = number_very_advance4(x, y)\n",
    "print(v4)"
   ]
  },
  {
   "cell_type": "code",
   "execution_count": 59,
   "id": "164ef8ab",
   "metadata": {},
   "outputs": [],
   "source": [
    "#Parameter\n",
    "\n",
    "def tax(total_amount, tax = 0.06):\n",
    "    result = total_amount * tax\n",
    "    print(result+total_amount)\n",
    "    "
   ]
  },
  {
   "cell_type": "code",
   "execution_count": 61,
   "id": "d9da8128",
   "metadata": {},
   "outputs": [
    {
     "name": "stdout",
     "output_type": "stream",
     "text": [
      "510.0\n"
     ]
    }
   ],
   "source": [
    "tax(500,0.02)"
   ]
  },
  {
   "cell_type": "code",
   "execution_count": null,
   "id": "89d59e21",
   "metadata": {},
   "outputs": [],
   "source": []
  }
 ],
 "metadata": {
  "kernelspec": {
   "display_name": "Python 3",
   "language": "python",
   "name": "python3"
  },
  "language_info": {
   "codemirror_mode": {
    "name": "ipython",
    "version": 3
   },
   "file_extension": ".py",
   "mimetype": "text/x-python",
   "name": "python",
   "nbconvert_exporter": "python",
   "pygments_lexer": "ipython3",
   "version": "3.8.8"
  }
 },
 "nbformat": 4,
 "nbformat_minor": 5
}
