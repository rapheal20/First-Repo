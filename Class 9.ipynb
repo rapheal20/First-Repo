{
 "cells": [
  {
   "cell_type": "code",
   "execution_count": 51,
   "id": "267821f8",
   "metadata": {},
   "outputs": [],
   "source": [
    "class patient():\n",
    "    def __init__(self, first_name, Last_name, age, CNIC, p_n, disease, treatment, doctor_assigned):\n",
    "        self.firstname = first_name\n",
    "        self.lastname = Last_name\n",
    "        self.age = age\n",
    "        self.CNIC = CNIC\n",
    "        self.p_n = p_n\n",
    "        self.disease = disease\n",
    "        self.treatment = treatment\n",
    "        self.d_a = doctor_assigned\n",
    "        \n",
    "    def showname(self):\n",
    "        print('Name is', self.firstname)\n",
    "    def showlname(self):\n",
    "        print('Last name is', self.lastname)\n",
    "    def showage(self):\n",
    "        print('Age is', self.age)\n",
    "    def showCNIC(self):\n",
    "        print('CNIC is', self.CNIC)\n",
    "    def showp_n(self):\n",
    "        print('phone number is', self.p_n)\n",
    "    def showdisease(self):\n",
    "        print('Disease is', self.disease)\n",
    "    def showtreatment(self):\n",
    "        print('Treatment is', self.treatment)\n",
    "    def showd_a(self):\n",
    "        print('Doctor Assigned is', self.d_a)\n",
    "        \n",
    "    def showall(self):\n",
    "        print('Name is', self.firstname)\n",
    "        print('Last name is', self.lastname)\n",
    "        print('Age is', self.age)\n",
    "        print('CNIC is', self.CNIC)\n",
    "        print('phone number is', self.p_n)\n",
    "        print('Disease is', self.disease)\n",
    "        print('Treatment is', self.treatment)\n",
    "        print('Doctor Assigned is', self.d_a)"
   ]
  },
  {
   "cell_type": "code",
   "execution_count": 68,
   "id": "f08070ba",
   "metadata": {},
   "outputs": [],
   "source": [
    "patient_1 = patient('Rapheal', 'Mumtaz', '13', '7r634654639', '0333945435', 'None', 'None', 'None')\n",
    "patient_2 = patient('Anael', 'Mumtaz', '11', '31246565', '3466453453', '-', '-', '-')\n",
    "# patient_3 = patient('Usman', 'Hashmi', '15')\n",
    "\n"
   ]
  },
  {
   "cell_type": "code",
   "execution_count": 69,
   "id": "5a31cb40",
   "metadata": {},
   "outputs": [
    {
     "name": "stdout",
     "output_type": "stream",
     "text": [
      "Name is Anael\n",
      "Last name is Mumtaz\n",
      "Age is 11\n",
      "CNIC is 31246565\n",
      "phone number is 3466453453\n",
      "Disease is -\n",
      "Treatment is -\n",
      "Doctor Assigned is -\n"
     ]
    }
   ],
   "source": [
    "patient_2.showall()"
   ]
  },
  {
   "cell_type": "code",
   "execution_count": 80,
   "id": "62460cd4",
   "metadata": {},
   "outputs": [
    {
     "name": "stdout",
     "output_type": "stream",
     "text": [
      "Name is Rapheal\n",
      "Last name is Mumtaz\n",
      "Age is 14\n",
      "CNIC is 7r634654639\n",
      "phone number is 0333945435\n",
      "Disease is None\n",
      "Treatment is None\n",
      "Doctor Assigned is None\n"
     ]
    }
   ],
   "source": [
    "patient_1.showname()\n",
    "patient_1.showlname()\n",
    "patient_1.showage()\n",
    "patient_1.showCNIC()\n",
    "patient_1.showp_n()\n",
    "patient_1.showdisease()\n",
    "patient_1.showtreatment()\n",
    "patient_1.showd_a()"
   ]
  },
  {
   "cell_type": "code",
   "execution_count": 79,
   "id": "89caf9f5",
   "metadata": {},
   "outputs": [],
   "source": [
    "patient_1.age = 14"
   ]
  },
  {
   "cell_type": "code",
   "execution_count": null,
   "id": "682417f7",
   "metadata": {},
   "outputs": [],
   "source": [
    "p"
   ]
  }
 ],
 "metadata": {
  "kernelspec": {
   "display_name": "Python 3",
   "language": "python",
   "name": "python3"
  },
  "language_info": {
   "codemirror_mode": {
    "name": "ipython",
    "version": 3
   },
   "file_extension": ".py",
   "mimetype": "text/x-python",
   "name": "python",
   "nbconvert_exporter": "python",
   "pygments_lexer": "ipython3",
   "version": "3.8.8"
  }
 },
 "nbformat": 4,
 "nbformat_minor": 5
}
