{
 "cells": [
  {
   "cell_type": "code",
   "execution_count": 1,
   "id": "fc250472",
   "metadata": {},
   "outputs": [],
   "source": [
    "import numpy as np"
   ]
  },
  {
   "cell_type": "markdown",
   "id": "5e62ff86",
   "metadata": {},
   "source": [
    "Boolian Indexing"
   ]
  },
  {
   "cell_type": "code",
   "execution_count": 2,
   "id": "558553b1",
   "metadata": {},
   "outputs": [],
   "source": [
    "names = np.array(['Bob', 'Joe', 'Will', 'Bob', 'Will', 'Joe', 'Joe'])\n",
    "data = np.random.randn(7, 4)"
   ]
  },
  {
   "cell_type": "code",
   "execution_count": 3,
   "id": "d3fa9f98",
   "metadata": {},
   "outputs": [
    {
     "data": {
      "text/plain": [
       "array([ True, False, False,  True, False, False, False])"
      ]
     },
     "execution_count": 3,
     "metadata": {},
     "output_type": "execute_result"
    }
   ],
   "source": [
    "names == 'Bob'"
   ]
  },
  {
   "cell_type": "code",
   "execution_count": 4,
   "id": "4be51cf8",
   "metadata": {},
   "outputs": [
    {
     "data": {
      "text/plain": [
       "array([[-0.32346514,  2.05123243,  0.50934104, -1.14479651],\n",
       "       [-0.4638774 ,  0.22627726, -0.65030481, -0.48203712]])"
      ]
     },
     "execution_count": 4,
     "metadata": {},
     "output_type": "execute_result"
    }
   ],
   "source": [
    "data[names == 'Bob']"
   ]
  },
  {
   "cell_type": "code",
   "execution_count": 9,
   "id": "2ffd6a85",
   "metadata": {},
   "outputs": [
    {
     "data": {
      "text/plain": [
       "array([[-0.32346514,  2.05123243],\n",
       "       [-0.4638774 ,  0.22627726]])"
      ]
     },
     "execution_count": 9,
     "metadata": {},
     "output_type": "execute_result"
    }
   ],
   "source": [
    "data[names == 'Bob',0:2]"
   ]
  },
  {
   "cell_type": "code",
   "execution_count": 11,
   "id": "af8a5b37",
   "metadata": {},
   "outputs": [
    {
     "data": {
      "text/plain": [
       "array([-0.32346514, -1.14479651, -2.25729002, -0.19205747, -0.32437719,\n",
       "       -0.93559478, -0.4638774 , -0.65030481, -0.48203712, -0.51753854,\n",
       "       -1.49372862, -1.48224419, -0.70063277, -2.0486223 , -0.80290722,\n",
       "       -0.85080758, -1.13940079])"
      ]
     },
     "execution_count": 11,
     "metadata": {},
     "output_type": "execute_result"
    }
   ],
   "source": [
    "data[data < 0]"
   ]
  },
  {
   "cell_type": "markdown",
   "id": "c1899ec0",
   "metadata": {},
   "source": [
    "Fancy Indexing"
   ]
  },
  {
   "cell_type": "code",
   "execution_count": 12,
   "id": "dfa40cbe",
   "metadata": {},
   "outputs": [],
   "source": [
    "arr = np.arange(32).reshape((8, 4))"
   ]
  },
  {
   "cell_type": "code",
   "execution_count": 13,
   "id": "3d1c22a3",
   "metadata": {},
   "outputs": [
    {
     "data": {
      "text/plain": [
       "array([[ 0,  1,  2,  3],\n",
       "       [ 4,  5,  6,  7],\n",
       "       [ 8,  9, 10, 11],\n",
       "       [12, 13, 14, 15],\n",
       "       [16, 17, 18, 19],\n",
       "       [20, 21, 22, 23],\n",
       "       [24, 25, 26, 27],\n",
       "       [28, 29, 30, 31]])"
      ]
     },
     "execution_count": 13,
     "metadata": {},
     "output_type": "execute_result"
    }
   ],
   "source": [
    "arr"
   ]
  },
  {
   "cell_type": "code",
   "execution_count": 22,
   "id": "abc1d4b7",
   "metadata": {},
   "outputs": [
    {
     "data": {
      "text/plain": [
       "array([[ 0,  1,  2,  3],\n",
       "       [ 8,  9, 10, 11],\n",
       "       [16, 17, 18, 19],\n",
       "       [24, 25, 26, 27]])"
      ]
     },
     "execution_count": 22,
     "metadata": {},
     "output_type": "execute_result"
    }
   ],
   "source": [
    "arr[[0,2,4,6]]"
   ]
  },
  {
   "cell_type": "code",
   "execution_count": 19,
   "id": "b4441b1b",
   "metadata": {},
   "outputs": [
    {
     "data": {
      "text/plain": [
       "array([ 0,  8, 16, 24])"
      ]
     },
     "execution_count": 19,
     "metadata": {},
     "output_type": "execute_result"
    }
   ],
   "source": [
    "arr[[0,2,4,6],0]"
   ]
  },
  {
   "cell_type": "code",
   "execution_count": 21,
   "id": "e1d94143",
   "metadata": {},
   "outputs": [],
   "source": [
    "t_arr = arr[[0,2,4,6]]"
   ]
  },
  {
   "cell_type": "code",
   "execution_count": 30,
   "id": "0d18059d",
   "metadata": {},
   "outputs": [
    {
     "data": {
      "text/plain": [
       "array([[ 0,  8, 16, 24],\n",
       "       [ 2, 10, 18, 26]])"
      ]
     },
     "execution_count": 30,
     "metadata": {},
     "output_type": "execute_result"
    }
   ],
   "source": [
    "np.array([t_arr[:,0], t_arr[:,2]])"
   ]
  },
  {
   "cell_type": "markdown",
   "id": "9dd9b4b0",
   "metadata": {},
   "source": [
    "Transposing Arrays and Swapping Axes\n"
   ]
  },
  {
   "cell_type": "code",
   "execution_count": 32,
   "id": "18e8b494",
   "metadata": {},
   "outputs": [
    {
     "data": {
      "text/plain": [
       "array([[ 0,  8, 16, 24],\n",
       "       [ 1,  9, 17, 25],\n",
       "       [ 2, 10, 18, 26],\n",
       "       [ 3, 11, 19, 27]])"
      ]
     },
     "execution_count": 32,
     "metadata": {},
     "output_type": "execute_result"
    }
   ],
   "source": [
    "t_arr.T"
   ]
  },
  {
   "cell_type": "code",
   "execution_count": 34,
   "id": "595cc7c8",
   "metadata": {},
   "outputs": [
    {
     "data": {
      "text/plain": [
       "array([[ 112,  118,  124,  130],\n",
       "       [ 304,  326,  348,  370],\n",
       "       [ 496,  534,  572,  610],\n",
       "       [ 688,  742,  796,  850],\n",
       "       [ 880,  950, 1020, 1090],\n",
       "       [1072, 1158, 1244, 1330],\n",
       "       [1264, 1366, 1468, 1570],\n",
       "       [1456, 1574, 1692, 1810]])"
      ]
     },
     "execution_count": 34,
     "metadata": {},
     "output_type": "execute_result"
    }
   ],
   "source": [
    "np.dot(arr,t_arr)"
   ]
  },
  {
   "cell_type": "code",
   "execution_count": 35,
   "id": "a3dbc548",
   "metadata": {},
   "outputs": [],
   "source": [
    "arr = np.arange(16).reshape((2, 2, 4))"
   ]
  },
  {
   "cell_type": "code",
   "execution_count": 36,
   "id": "6aa2a0c6",
   "metadata": {},
   "outputs": [
    {
     "data": {
      "text/plain": [
       "array([[[ 0,  1,  2,  3],\n",
       "        [ 4,  5,  6,  7]],\n",
       "\n",
       "       [[ 8,  9, 10, 11],\n",
       "        [12, 13, 14, 15]]])"
      ]
     },
     "execution_count": 36,
     "metadata": {},
     "output_type": "execute_result"
    }
   ],
   "source": [
    "arr"
   ]
  },
  {
   "cell_type": "code",
   "execution_count": 37,
   "id": "6b6f5c13",
   "metadata": {},
   "outputs": [
    {
     "data": {
      "text/plain": [
       "array([[[ 0,  1,  2,  3],\n",
       "        [ 8,  9, 10, 11]],\n",
       "\n",
       "       [[ 4,  5,  6,  7],\n",
       "        [12, 13, 14, 15]]])"
      ]
     },
     "execution_count": 37,
     "metadata": {},
     "output_type": "execute_result"
    }
   ],
   "source": [
    "arr.transpose((1, 0, 2))\n"
   ]
  },
  {
   "cell_type": "code",
   "execution_count": null,
   "id": "28d54351",
   "metadata": {},
   "outputs": [],
   "source": [
    "# 0 = rows\n",
    "# 1 = colum\n",
    "# 2 = depth"
   ]
  },
  {
   "cell_type": "code",
   "execution_count": 40,
   "id": "2b1ec981",
   "metadata": {},
   "outputs": [
    {
     "data": {
      "text/plain": [
       "array([[[ 0,  4],\n",
       "        [ 1,  5],\n",
       "        [ 2,  6],\n",
       "        [ 3,  7]],\n",
       "\n",
       "       [[ 8, 12],\n",
       "        [ 9, 13],\n",
       "        [10, 14],\n",
       "        [11, 15]]])"
      ]
     },
     "execution_count": 40,
     "metadata": {},
     "output_type": "execute_result"
    }
   ],
   "source": [
    "arr.swapaxes(1,2)"
   ]
  },
  {
   "cell_type": "code",
   "execution_count": 41,
   "id": "b7a608d7",
   "metadata": {},
   "outputs": [
    {
     "data": {
      "text/plain": [
       "array([[[ 0,  8],\n",
       "        [ 4, 12]],\n",
       "\n",
       "       [[ 1,  9],\n",
       "        [ 5, 13]],\n",
       "\n",
       "       [[ 2, 10],\n",
       "        [ 6, 14]],\n",
       "\n",
       "       [[ 3, 11],\n",
       "        [ 7, 15]]])"
      ]
     },
     "execution_count": 41,
     "metadata": {},
     "output_type": "execute_result"
    }
   ],
   "source": [
    "arr.T"
   ]
  },
  {
   "cell_type": "markdown",
   "id": "1503bddc",
   "metadata": {},
   "source": [
    "Universal Functions: Fast Element-Wise Array\n",
    "Functions"
   ]
  },
  {
   "cell_type": "code",
   "execution_count": 44,
   "id": "543cceab",
   "metadata": {},
   "outputs": [],
   "source": [
    "arr = np.arange(10)"
   ]
  },
  {
   "cell_type": "code",
   "execution_count": 45,
   "id": "1271e17d",
   "metadata": {},
   "outputs": [
    {
     "data": {
      "text/plain": [
       "array([0, 1, 2, 3, 4, 5, 6, 7, 8, 9])"
      ]
     },
     "execution_count": 45,
     "metadata": {},
     "output_type": "execute_result"
    }
   ],
   "source": [
    "arr"
   ]
  },
  {
   "cell_type": "code",
   "execution_count": 43,
   "id": "70bc0267",
   "metadata": {},
   "outputs": [
    {
     "data": {
      "text/plain": [
       "array([0.        , 1.        , 1.41421356, 1.73205081, 2.        ,\n",
       "       2.23606798, 2.44948974, 2.64575131, 2.82842712, 3.        ])"
      ]
     },
     "execution_count": 43,
     "metadata": {},
     "output_type": "execute_result"
    }
   ],
   "source": [
    "np.sqrt(arr)"
   ]
  },
  {
   "cell_type": "code",
   "execution_count": 47,
   "id": "42782373",
   "metadata": {},
   "outputs": [
    {
     "data": {
      "text/plain": [
       "array([ 0,  1,  4,  9, 16, 25, 36, 49, 64, 81], dtype=int32)"
      ]
     },
     "execution_count": 47,
     "metadata": {},
     "output_type": "execute_result"
    }
   ],
   "source": [
    "np.square(arr)"
   ]
  },
  {
   "cell_type": "code",
   "execution_count": 48,
   "id": "2c6e38fb",
   "metadata": {},
   "outputs": [],
   "source": [
    "x = np.random.randn(8)\n",
    "y = np.random.randn(8)"
   ]
  },
  {
   "cell_type": "code",
   "execution_count": 49,
   "id": "4e776ad0",
   "metadata": {},
   "outputs": [
    {
     "data": {
      "text/plain": [
       "(array([ 0.11724984,  0.990221  ,  0.23200501,  1.17928867,  0.59790394,\n",
       "         0.84108475,  0.00488695, -0.3014301 ]),\n",
       " array([ 0.65519519,  0.4193201 , -0.45636689,  0.64554146, -0.61903841,\n",
       "         1.07138019, -0.36211815, -0.04058377]))"
      ]
     },
     "execution_count": 49,
     "metadata": {},
     "output_type": "execute_result"
    }
   ],
   "source": [
    "x,y"
   ]
  },
  {
   "cell_type": "code",
   "execution_count": 50,
   "id": "ed9bc1b3",
   "metadata": {},
   "outputs": [
    {
     "data": {
      "text/plain": [
       "array([ 0.65519519,  0.990221  ,  0.23200501,  1.17928867,  0.59790394,\n",
       "        1.07138019,  0.00488695, -0.04058377])"
      ]
     },
     "execution_count": 50,
     "metadata": {},
     "output_type": "execute_result"
    }
   ],
   "source": [
    "np.maximum(x,y)"
   ]
  },
  {
   "cell_type": "code",
   "execution_count": 51,
   "id": "a3d32dbe",
   "metadata": {},
   "outputs": [
    {
     "data": {
      "text/plain": [
       "array([ 0.11724984,  0.4193201 , -0.45636689,  0.64554146, -0.61903841,\n",
       "        0.84108475, -0.36211815, -0.3014301 ])"
      ]
     },
     "execution_count": 51,
     "metadata": {},
     "output_type": "execute_result"
    }
   ],
   "source": [
    "np.minimum(x,y)"
   ]
  },
  {
   "cell_type": "code",
   "execution_count": 53,
   "id": "ced541ed",
   "metadata": {},
   "outputs": [],
   "source": [
    "remainder, whole_part = np.modf(arr)"
   ]
  },
  {
   "cell_type": "code",
   "execution_count": 54,
   "id": "aaf7e9a2",
   "metadata": {},
   "outputs": [
    {
     "data": {
      "text/plain": [
       "array([0., 0., 0., 0., 0., 0., 0., 0., 0., 0.])"
      ]
     },
     "execution_count": 54,
     "metadata": {},
     "output_type": "execute_result"
    }
   ],
   "source": [
    "remainder"
   ]
  },
  {
   "cell_type": "code",
   "execution_count": 55,
   "id": "952ab15a",
   "metadata": {},
   "outputs": [
    {
     "data": {
      "text/plain": [
       "array([0., 1., 2., 3., 4., 5., 6., 7., 8., 9.])"
      ]
     },
     "execution_count": 55,
     "metadata": {},
     "output_type": "execute_result"
    }
   ],
   "source": [
    "whole_part"
   ]
  },
  {
   "cell_type": "code",
   "execution_count": 56,
   "id": "b7a5405f",
   "metadata": {},
   "outputs": [],
   "source": [
    "arr.sort()"
   ]
  },
  {
   "cell_type": "code",
   "execution_count": 57,
   "id": "5c1beaa6",
   "metadata": {},
   "outputs": [
    {
     "data": {
      "text/plain": [
       "array([0, 1, 2, 3, 4, 5, 6, 7, 8, 9])"
      ]
     },
     "execution_count": 57,
     "metadata": {},
     "output_type": "execute_result"
    }
   ],
   "source": [
    "arr"
   ]
  },
  {
   "cell_type": "markdown",
   "id": "f1f2be81",
   "metadata": {},
   "source": [
    "Unique and Other Set Logic\n"
   ]
  },
  {
   "cell_type": "code",
   "execution_count": 65,
   "id": "1982f2b8",
   "metadata": {},
   "outputs": [],
   "source": [
    "names = np.array(['Bob', 'Joe', 'Will', 'Bob', 'Will', 'Joe', 'Joe'])"
   ]
  },
  {
   "cell_type": "code",
   "execution_count": 59,
   "id": "579b84a8",
   "metadata": {},
   "outputs": [
    {
     "data": {
      "text/plain": [
       "array(['Bob', 'Joe', 'Will'], dtype='<U4')"
      ]
     },
     "execution_count": 59,
     "metadata": {},
     "output_type": "execute_result"
    }
   ],
   "source": [
    "np.unique(names)"
   ]
  },
  {
   "cell_type": "code",
   "execution_count": 62,
   "id": "d4bd494b",
   "metadata": {},
   "outputs": [],
   "source": [
    "names1 = np.array(['Bob', 'Joe'])"
   ]
  },
  {
   "cell_type": "code",
   "execution_count": 63,
   "id": "892ab262",
   "metadata": {},
   "outputs": [
    {
     "data": {
      "text/plain": [
       "array(['Bob', 'Joe'], dtype='<U3')"
      ]
     },
     "execution_count": 63,
     "metadata": {},
     "output_type": "execute_result"
    }
   ],
   "source": [
    "np.intersect1d(names,names1)"
   ]
  },
  {
   "cell_type": "code",
   "execution_count": 66,
   "id": "d1d89e28",
   "metadata": {},
   "outputs": [
    {
     "data": {
      "text/plain": [
       "array(['Bob', 'Joe', 'Will'], dtype='<U4')"
      ]
     },
     "execution_count": 66,
     "metadata": {},
     "output_type": "execute_result"
    }
   ],
   "source": [
    "np.union1d(names,names1)"
   ]
  },
  {
   "cell_type": "code",
   "execution_count": 68,
   "id": "c6131ca0",
   "metadata": {},
   "outputs": [
    {
     "data": {
      "text/plain": [
       "array([ True,  True, False,  True, False,  True,  True])"
      ]
     },
     "execution_count": 68,
     "metadata": {},
     "output_type": "execute_result"
    }
   ],
   "source": [
    "np.in1d(names,names1)"
   ]
  },
  {
   "cell_type": "code",
   "execution_count": null,
   "id": "4a529a55",
   "metadata": {},
   "outputs": [],
   "source": []
  }
 ],
 "metadata": {
  "kernelspec": {
   "display_name": "Python 3",
   "language": "python",
   "name": "python3"
  },
  "language_info": {
   "codemirror_mode": {
    "name": "ipython",
    "version": 3
   },
   "file_extension": ".py",
   "mimetype": "text/x-python",
   "name": "python",
   "nbconvert_exporter": "python",
   "pygments_lexer": "ipython3",
   "version": "3.8.8"
  }
 },
 "nbformat": 4,
 "nbformat_minor": 5
}
