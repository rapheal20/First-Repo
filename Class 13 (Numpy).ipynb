{
 "cells": [
  {
   "cell_type": "code",
   "execution_count": 36,
   "id": "ceaf6a93",
   "metadata": {},
   "outputs": [],
   "source": [
    "import numpy as np"
   ]
  },
  {
   "cell_type": "code",
   "execution_count": 40,
   "id": "3615d596",
   "metadata": {},
   "outputs": [],
   "source": [
    "arr = np.array([1,2,3,4])"
   ]
  },
  {
   "cell_type": "code",
   "execution_count": 41,
   "id": "aa573247",
   "metadata": {},
   "outputs": [
    {
     "data": {
      "text/plain": [
       "array([1, 2, 3, 4])"
      ]
     },
     "execution_count": 41,
     "metadata": {},
     "output_type": "execute_result"
    }
   ],
   "source": [
    "arr"
   ]
  },
  {
   "cell_type": "code",
   "execution_count": 8,
   "id": "c68a5150",
   "metadata": {},
   "outputs": [],
   "source": [
    "my_arry = np.arange(1000)"
   ]
  },
  {
   "cell_type": "code",
   "execution_count": 26,
   "id": "ed17d9c7",
   "metadata": {},
   "outputs": [],
   "source": [
    "data = np.random.rand(2, 5, 3, 1)"
   ]
  },
  {
   "cell_type": "code",
   "execution_count": 27,
   "id": "a2528248",
   "metadata": {},
   "outputs": [
    {
     "data": {
      "text/plain": [
       "array([[[[0.78476328],\n",
       "         [0.70098838],\n",
       "         [0.27869455]],\n",
       "\n",
       "        [[0.41478898],\n",
       "         [0.81296229],\n",
       "         [0.40430977]],\n",
       "\n",
       "        [[0.94407287],\n",
       "         [0.67367582],\n",
       "         [0.07730522]],\n",
       "\n",
       "        [[0.85560049],\n",
       "         [0.55638585],\n",
       "         [0.08098786]],\n",
       "\n",
       "        [[0.09927429],\n",
       "         [0.48862855],\n",
       "         [0.53709165]]],\n",
       "\n",
       "\n",
       "       [[[0.69889195],\n",
       "         [0.58016941],\n",
       "         [0.98593842]],\n",
       "\n",
       "        [[0.4670827 ],\n",
       "         [0.37970287],\n",
       "         [0.16799459]],\n",
       "\n",
       "        [[0.38736204],\n",
       "         [0.23319137],\n",
       "         [0.30366151]],\n",
       "\n",
       "        [[0.05951729],\n",
       "         [0.40971289],\n",
       "         [0.03371935]],\n",
       "\n",
       "        [[0.58500846],\n",
       "         [0.30151061],\n",
       "         [0.06996142]]]])"
      ]
     },
     "execution_count": 27,
     "metadata": {},
     "output_type": "execute_result"
    }
   ],
   "source": [
    "data\n"
   ]
  },
  {
   "cell_type": "code",
   "execution_count": 24,
   "id": "ed5ac9be",
   "metadata": {},
   "outputs": [],
   "source": [
    "# rand = only positive\n",
    "# randn = both negative and positive\n",
    "# randint = for giving range"
   ]
  },
  {
   "cell_type": "code",
   "execution_count": 25,
   "id": "8ce4f99d",
   "metadata": {},
   "outputs": [
    {
     "data": {
      "text/plain": [
       "(2, 5)"
      ]
     },
     "execution_count": 25,
     "metadata": {},
     "output_type": "execute_result"
    }
   ],
   "source": [
    "data.shape"
   ]
  },
  {
   "cell_type": "code",
   "execution_count": 48,
   "id": "28dc3f9f",
   "metadata": {},
   "outputs": [],
   "source": [
    "arry2 = np.arange(120)"
   ]
  },
  {
   "cell_type": "code",
   "execution_count": 49,
   "id": "340999d9",
   "metadata": {},
   "outputs": [
    {
     "name": "stdout",
     "output_type": "stream",
     "text": [
      "[  0   1   2   3   4   5   6   7   8   9  10  11  12  13  14  15  16  17\n",
      "  18  19  20  21  22  23  24  25  26  27  28  29  30  31  32  33  34  35\n",
      "  36  37  38  39  40  41  42  43  44  45  46  47  48  49  50  51  52  53\n",
      "  54  55  56  57  58  59  60  61  62  63  64  65  66  67  68  69  70  71\n",
      "  72  73  74  75  76  77  78  79  80  81  82  83  84  85  86  87  88  89\n",
      "  90  91  92  93  94  95  96  97  98  99 100 101 102 103 104 105 106 107\n",
      " 108 109 110 111 112 113 114 115 116 117 118 119]\n"
     ]
    }
   ],
   "source": [
    "print(arry2)"
   ]
  },
  {
   "cell_type": "code",
   "execution_count": 50,
   "id": "46874658",
   "metadata": {},
   "outputs": [
    {
     "data": {
      "text/plain": [
       "(120,)"
      ]
     },
     "execution_count": 50,
     "metadata": {},
     "output_type": "execute_result"
    }
   ],
   "source": [
    "arry2.shape"
   ]
  },
  {
   "cell_type": "code",
   "execution_count": 53,
   "id": "21054d7a",
   "metadata": {},
   "outputs": [
    {
     "data": {
      "text/plain": [
       "array([[[  0,   1,   2,   3,   4,   5],\n",
       "        [  6,   7,   8,   9,  10,  11],\n",
       "        [ 12,  13,  14,  15,  16,  17],\n",
       "        [ 18,  19,  20,  21,  22,  23],\n",
       "        [ 24,  25,  26,  27,  28,  29],\n",
       "        [ 30,  31,  32,  33,  34,  35],\n",
       "        [ 36,  37,  38,  39,  40,  41],\n",
       "        [ 42,  43,  44,  45,  46,  47],\n",
       "        [ 48,  49,  50,  51,  52,  53],\n",
       "        [ 54,  55,  56,  57,  58,  59]],\n",
       "\n",
       "       [[ 60,  61,  62,  63,  64,  65],\n",
       "        [ 66,  67,  68,  69,  70,  71],\n",
       "        [ 72,  73,  74,  75,  76,  77],\n",
       "        [ 78,  79,  80,  81,  82,  83],\n",
       "        [ 84,  85,  86,  87,  88,  89],\n",
       "        [ 90,  91,  92,  93,  94,  95],\n",
       "        [ 96,  97,  98,  99, 100, 101],\n",
       "        [102, 103, 104, 105, 106, 107],\n",
       "        [108, 109, 110, 111, 112, 113],\n",
       "        [114, 115, 116, 117, 118, 119]]])"
      ]
     },
     "execution_count": 53,
     "metadata": {},
     "output_type": "execute_result"
    }
   ],
   "source": [
    "arry2.reshape(2,10,6)"
   ]
  },
  {
   "cell_type": "code",
   "execution_count": 55,
   "id": "68423725",
   "metadata": {},
   "outputs": [],
   "source": [
    "d = np.zeros(2)"
   ]
  },
  {
   "cell_type": "code",
   "execution_count": 56,
   "id": "648f474f",
   "metadata": {},
   "outputs": [
    {
     "data": {
      "text/plain": [
       "array([0., 0.])"
      ]
     },
     "execution_count": 56,
     "metadata": {},
     "output_type": "execute_result"
    }
   ],
   "source": [
    "d"
   ]
  },
  {
   "cell_type": "code",
   "execution_count": 57,
   "id": "465b1d35",
   "metadata": {},
   "outputs": [],
   "source": [
    "da = np.empty(10)"
   ]
  },
  {
   "cell_type": "code",
   "execution_count": 58,
   "id": "6e542324",
   "metadata": {},
   "outputs": [
    {
     "data": {
      "text/plain": [
       "array([0.57983204, 0.71116894, 0.61126663, 0.08802069, 0.8031109 ,\n",
       "       0.71498443, 0.84892941, 0.4293415 , 0.70960597, 0.55044722])"
      ]
     },
     "execution_count": 58,
     "metadata": {},
     "output_type": "execute_result"
    }
   ],
   "source": [
    "da"
   ]
  },
  {
   "cell_type": "code",
   "execution_count": 59,
   "id": "97622407",
   "metadata": {},
   "outputs": [
    {
     "ename": "SyntaxError",
     "evalue": "cannot assign to function call (<ipython-input-59-515162dce381>, line 1)",
     "output_type": "error",
     "traceback": [
      "\u001b[1;36m  File \u001b[1;32m\"<ipython-input-59-515162dce381>\"\u001b[1;36m, line \u001b[1;32m1\u001b[0m\n\u001b[1;33m    arr = np.array([1,2,3]), dtype = int8\u001b[0m\n\u001b[1;37m          ^\u001b[0m\n\u001b[1;31mSyntaxError\u001b[0m\u001b[1;31m:\u001b[0m cannot assign to function call\n"
     ]
    }
   ],
   "source": [
    "arr = np.array([1,2,3]), dtype = int8"
   ]
  },
  {
   "cell_type": "code",
   "execution_count": null,
   "id": "e87b7524",
   "metadata": {},
   "outputs": [],
   "source": []
  }
 ],
 "metadata": {
  "kernelspec": {
   "display_name": "Python 3",
   "language": "python",
   "name": "python3"
  },
  "language_info": {
   "codemirror_mode": {
    "name": "ipython",
    "version": 3
   },
   "file_extension": ".py",
   "mimetype": "text/x-python",
   "name": "python",
   "nbconvert_exporter": "python",
   "pygments_lexer": "ipython3",
   "version": "3.8.8"
  }
 },
 "nbformat": 4,
 "nbformat_minor": 5
}
