{
 "cells": [
  {
   "cell_type": "markdown",
   "metadata": {
    "id": "jceWXByifjm8"
   },
   "source": [
    "# Q1 ) \n",
    "Write an if statement that asks for the user's name via input() function. If the name is \"Bond\" make it print \"Welcome on board 007.\" Otherwise make it print \"Good morning NAME\". (Replace Name with user's name)"
   ]
  },
  {
   "cell_type": "code",
   "execution_count": null,
   "metadata": {
    "colab": {
     "base_uri": "https://localhost:8080/"
    },
    "executionInfo": {
     "elapsed": 4073,
     "status": "ok",
     "timestamp": 1625049625915,
     "user": {
      "displayName": "Rapheal Mumtaz",
      "photoUrl": "https://lh3.googleusercontent.com/a-/AOh14GjKCtvAe6luhk6E5Hc5EXg6pD5TXODM2vRpndk02A=s64",
      "userId": "05229764618256538488"
     },
     "user_tz": -300
    },
    "id": "z3QLOeUZfjnA",
    "outputId": "804757f8-a5c0-4b1f-a65d-2dcaecf424b4"
   },
   "outputs": [
    {
     "name": "stdout",
     "output_type": "stream",
     "text": [
      "What is your name? Bond\n",
      "Welcome on board 007\n"
     ]
    }
   ],
   "source": [
    "username = input(\"What is your name? \")\n",
    "if username == \"Bond\":\n",
    "  print(\"Welcome on board 007\")\n",
    "else:\n",
    "  print(\"Good Morning\", username)\n",
    "  "
   ]
  },
  {
   "cell_type": "markdown",
   "metadata": {
    "id": "YC-Ch9VffjnB"
   },
   "source": [
    "# Q2 )\n",
    "Print the following pattern <br>\n",
    "1 <br>\n",
    "1 2 <br>\n",
    "1 2 3 <br>\n",
    "1 2 3 4 <br>\n",
    "1 2 3 4 5 <br>"
   ]
  },
  {
   "cell_type": "code",
   "execution_count": null,
   "metadata": {
    "colab": {
     "base_uri": "https://localhost:8080/"
    },
    "executionInfo": {
     "elapsed": 352,
     "status": "ok",
     "timestamp": 1625064608495,
     "user": {
      "displayName": "Rapheal Mumtaz",
      "photoUrl": "https://lh3.googleusercontent.com/a-/AOh14GjKCtvAe6luhk6E5Hc5EXg6pD5TXODM2vRpndk02A=s64",
      "userId": "05229764618256538488"
     },
     "user_tz": -300
    },
    "id": "W0MAowuPfjnC",
    "outputId": "deefb180-8943-4f7a-94ec-cae90a5b0e84"
   },
   "outputs": [
    {
     "name": "stdout",
     "output_type": "stream",
     "text": [
      "1\n",
      "12\n",
      "123\n",
      "1234\n",
      "12345\n"
     ]
    }
   ],
   "source": [
    "n = 5\n",
    "for i in range(1,n+1):\n",
    "  for j in range(1,i+1):\n",
    "    print(j,end=\"\")\n",
    "  print()"
   ]
  },
  {
   "cell_type": "markdown",
   "metadata": {
    "id": "Yoa3CqTkfjnC"
   },
   "source": [
    "# Q3)\n",
    "Accept number from user and calculate the sum of all number from 1 to a given number <br>\n",
    "For example, if user entered 10 the output should be 55."
   ]
  },
  {
   "cell_type": "code",
   "execution_count": null,
   "metadata": {
    "colab": {
     "base_uri": "https://localhost:8080/"
    },
    "executionInfo": {
     "elapsed": 2838,
     "status": "ok",
     "timestamp": 1625060991346,
     "user": {
      "displayName": "Rapheal Mumtaz",
      "photoUrl": "https://lh3.googleusercontent.com/a-/AOh14GjKCtvAe6luhk6E5Hc5EXg6pD5TXODM2vRpndk02A=s64",
      "userId": "05229764618256538488"
     },
     "user_tz": -300
    },
    "id": "MqpyPVIrfjnD",
    "outputId": "b5bdb318-06db-4d6c-d618-97e9bf31fa5e"
   },
   "outputs": [
    {
     "name": "stdout",
     "output_type": "stream",
     "text": [
      "Enter number2\n",
      "3\n"
     ]
    }
   ],
   "source": [
    "num = int(input(\"Enter number\"))\n",
    "num_value = 0\n",
    "for i in range(1, num + 1):\n",
    "    num_value = num_value + i\n",
    "print(num_value)"
   ]
  },
  {
   "cell_type": "markdown",
   "metadata": {
    "id": "hpYQL9X7fjnD"
   },
   "source": [
    "# Q4) \n",
    "Print multiplication table of a given number <br>\n",
    "For example, num = 2 so the output should be <br>\n",
    "\n",
    "\n",
    "2\n",
    "4\n",
    "6\n",
    "8\n",
    "10\n",
    "12\n",
    "14\n",
    "16\n",
    "18\n",
    "20"
   ]
  },
  {
   "cell_type": "code",
   "execution_count": null,
   "metadata": {
    "colab": {
     "base_uri": "https://localhost:8080/"
    },
    "executionInfo": {
     "elapsed": 4769,
     "status": "ok",
     "timestamp": 1625050080106,
     "user": {
      "displayName": "Rapheal Mumtaz",
      "photoUrl": "https://lh3.googleusercontent.com/a-/AOh14GjKCtvAe6luhk6E5Hc5EXg6pD5TXODM2vRpndk02A=s64",
      "userId": "05229764618256538488"
     },
     "user_tz": -300
    },
    "id": "k4i43l8vfjnE",
    "outputId": "559ca488-643d-4d1c-8c82-218de9de0f37"
   },
   "outputs": [
    {
     "name": "stdout",
     "output_type": "stream",
     "text": [
      "Enter a number of which you need the table2\n",
      "Till which number do you want the table10\n",
      "2\n",
      "4\n",
      "6\n",
      "8\n",
      "10\n",
      "12\n",
      "14\n",
      "16\n",
      "18\n",
      "20\n"
     ]
    }
   ],
   "source": [
    "num = int(input(\"Enter a number of which you need the table\"))\n",
    "l_num = int(input(\"Till which number do you want the table\"))\n",
    "i = 0\n",
    "for i in range(l_num): \n",
    "  print(num * (i+1))"
   ]
  },
  {
   "cell_type": "markdown",
   "metadata": {
    "id": "TFdEwhq2fjnE"
   },
   "source": [
    "# Q5) \n",
    "Given a list, iterate it, and display numbers divisible by five, and if you find a number greater than 150, stop the loop iteration.  <br>\n",
    "list1 = [12, 15, 32, 42, 55, 75, 122, 132, 150, 180, 200]"
   ]
  },
  {
   "cell_type": "code",
   "execution_count": null,
   "metadata": {
    "id": "fzCTh8befjnF"
   },
   "outputs": [],
   "source": [
    "list1 = [12, 15, 32, 42, 55, 75, 122, 132, 150, 180, 200]\n",
    "for i in list1:\n",
    "    if i > 150:\n",
    "        break\n",
    "    remainder=i % 5\n",
    "    if remainder==0:\n",
    "        print(i)"
   ]
  },
  {
   "cell_type": "markdown",
   "metadata": {
    "id": "o5XKEhw1fjnF"
   },
   "source": [
    "# Q6)\n",
    "Given a number count the total number of digits in a number <br>\n",
    "For example, the number is 75869, so the output should be 5."
   ]
  },
  {
   "cell_type": "code",
   "execution_count": null,
   "metadata": {
    "colab": {
     "base_uri": "https://localhost:8080/"
    },
    "executionInfo": {
     "elapsed": 2927,
     "status": "ok",
     "timestamp": 1625065514871,
     "user": {
      "displayName": "Rapheal Mumtaz",
      "photoUrl": "https://lh3.googleusercontent.com/a-/AOh14GjKCtvAe6luhk6E5Hc5EXg6pD5TXODM2vRpndk02A=s64",
      "userId": "05229764618256538488"
     },
     "user_tz": -300
    },
    "id": "0g2KB14MfjnG",
    "outputId": "4b83ab2a-3f7a-43e5-f361-00130c8797fc"
   },
   "outputs": [
    {
     "name": "stdout",
     "output_type": "stream",
     "text": [
      "Tell the number: 478232\n",
      "6\n"
     ]
    }
   ],
   "source": [
    "num = input(\"Tell the number: \")\n",
    "print(len(num))"
   ]
  },
  {
   "cell_type": "markdown",
   "metadata": {
    "id": "LTPhtrO4fjnG"
   },
   "source": [
    "# Q7) \n",
    "Reverse print the following list using for loop <br>\n",
    "list1 = [10, 20, 30, 40, 50]"
   ]
  },
  {
   "cell_type": "code",
   "execution_count": null,
   "metadata": {
    "colab": {
     "base_uri": "https://localhost:8080/"
    },
    "executionInfo": {
     "elapsed": 385,
     "status": "ok",
     "timestamp": 1625058261409,
     "user": {
      "displayName": "Rapheal Mumtaz",
      "photoUrl": "https://lh3.googleusercontent.com/a-/AOh14GjKCtvAe6luhk6E5Hc5EXg6pD5TXODM2vRpndk02A=s64",
      "userId": "05229764618256538488"
     },
     "user_tz": -300
    },
    "id": "si8vLCbCfjnH",
    "outputId": "72291ee3-8985-44d4-be57-55f456e5a677"
   },
   "outputs": [
    {
     "name": "stdout",
     "output_type": "stream",
     "text": [
      "50\n",
      "40\n",
      "30\n",
      "20\n",
      "10\n"
     ]
    }
   ],
   "source": [
    "\n",
    "for i in range(49,0,-10):\n",
    "  print (i+1)"
   ]
  },
  {
   "cell_type": "markdown",
   "metadata": {
    "id": "Wi-rGfYDfjnH"
   },
   "source": [
    "# Q8)\n",
    " Reverse a given integer number <br>\n",
    "Given:<br>\n",
    "\n",
    "76542<br>\n",
    "\n",
    "Expected output:<br>\n",
    "\n",
    "24567<br>"
   ]
  },
  {
   "cell_type": "code",
   "execution_count": null,
   "metadata": {
    "colab": {
     "base_uri": "https://localhost:8080/"
    },
    "executionInfo": {
     "elapsed": 3444,
     "status": "ok",
     "timestamp": 1625122677888,
     "user": {
      "displayName": "Rapheal Mumtaz",
      "photoUrl": "https://lh3.googleusercontent.com/a-/AOh14GjKCtvAe6luhk6E5Hc5EXg6pD5TXODM2vRpndk02A=s64",
      "userId": "05229764618256538488"
     },
     "user_tz": -300
    },
    "id": "Rk4YoGYlfjnI",
    "outputId": "7219e3ea-3b55-4bdc-82fb-0a6d49e23e02"
   },
   "outputs": [
    {
     "name": "stdout",
     "output_type": "stream",
     "text": [
      "Enter the number you want to reverse print: 322131\n",
      "131223"
     ]
    }
   ],
   "source": [
    "num = input(\"Enter the number you want to reverse print: \")\n",
    "num1 = int(num)\n",
    "for i in range (len(num)):\n",
    "    remainder=num1%10\n",
    "    num1=round(num1/10)\n",
    "    print (remainder,end=\"\")"
   ]
  },
  {
   "cell_type": "markdown",
   "metadata": {
    "id": "glTKHNklfjnI"
   },
   "source": [
    "Q9) \n",
    "Display the cube of the number up to a given integer"
   ]
  },
  {
   "cell_type": "code",
   "execution_count": null,
   "metadata": {
    "colab": {
     "base_uri": "https://localhost:8080/"
    },
    "executionInfo": {
     "elapsed": 2829,
     "status": "ok",
     "timestamp": 1625058617246,
     "user": {
      "displayName": "Rapheal Mumtaz",
      "photoUrl": "https://lh3.googleusercontent.com/a-/AOh14GjKCtvAe6luhk6E5Hc5EXg6pD5TXODM2vRpndk02A=s64",
      "userId": "05229764618256538488"
     },
     "user_tz": -300
    },
    "id": "RbXCjLnefjnI",
    "outputId": "77532409-6de5-4706-de08-5f1843146c27"
   },
   "outputs": [
    {
     "name": "stdout",
     "output_type": "stream",
     "text": [
      "Enter the number 4\n",
      "64\n"
     ]
    }
   ],
   "source": [
    "num = int(input(\"Enter the number \"))\n",
    "print(num * num * num)"
   ]
  },
  {
   "cell_type": "markdown",
   "metadata": {
    "id": "rCtlV5xgfjnJ"
   },
   "source": [
    "# Q10)\n",
    "Take two int values from user and print greatest among them.\n"
   ]
  },
  {
   "cell_type": "code",
   "execution_count": null,
   "metadata": {
    "colab": {
     "base_uri": "https://localhost:8080/"
    },
    "executionInfo": {
     "elapsed": 4033,
     "status": "ok",
     "timestamp": 1625058476391,
     "user": {
      "displayName": "Rapheal Mumtaz",
      "photoUrl": "https://lh3.googleusercontent.com/a-/AOh14GjKCtvAe6luhk6E5Hc5EXg6pD5TXODM2vRpndk02A=s64",
      "userId": "05229764618256538488"
     },
     "user_tz": -300
    },
    "id": "oPxXgQodfjnK",
    "outputId": "c2e7c36a-5da9-4cd8-8779-cfa7d573d31d"
   },
   "outputs": [
    {
     "name": "stdout",
     "output_type": "stream",
     "text": [
      "Enter the first number5\n",
      "Enter the first number4\n",
      "5 is greater\n"
     ]
    }
   ],
   "source": [
    "num1 = int(input(\"Enter the first number \"))\n",
    "num2 = int(input(\"Enter the first number \"))\n",
    "if num1 < num2:\n",
    "  print (num2, \"is greater\")\n",
    "else:\n",
    "  print(num1, \"is greater\")"
   ]
  },
  {
   "cell_type": "code",
   "execution_count": null,
   "metadata": {
    "id": "KG6Fnw7-B-K3"
   },
   "outputs": [],
   "source": []
  }
 ],
 "metadata": {
  "colab": {
   "collapsed_sections": [],
   "name": "Exercise No 01.ipynb",
   "provenance": []
  },
  "kernelspec": {
   "display_name": "Python 3",
   "language": "python",
   "name": "python3"
  },
  "language_info": {
   "codemirror_mode": {
    "name": "ipython",
    "version": 3
   },
   "file_extension": ".py",
   "mimetype": "text/x-python",
   "name": "python",
   "nbconvert_exporter": "python",
   "pygments_lexer": "ipython3",
   "version": "3.8.8"
  }
 },
 "nbformat": 4,
 "nbformat_minor": 1
}
